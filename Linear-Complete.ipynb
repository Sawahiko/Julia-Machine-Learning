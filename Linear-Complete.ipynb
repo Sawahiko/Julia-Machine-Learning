{
 "cells": [
  {
   "cell_type": "markdown",
   "id": "47e848c8-42fd-4da4-8c08-4a3f54593e88",
   "metadata": {
    "tags": []
   },
   "source": [
    "# Add Package"
   ]
  },
  {
   "cell_type": "code",
   "execution_count": 1,
   "id": "9ae0de07-8170-4f0c-93b9-5940cc051759",
   "metadata": {
    "execution": {
     "iopub.execute_input": "2023-10-13T11:55:18.054",
     "iopub.status.busy": "2023-10-13T11:55:17.411",
     "iopub.status.idle": "2023-10-13T11:55:35.546",
     "shell.execute_reply": "2023-10-13T11:55:35.446"
    },
    "tags": []
   },
   "outputs": [
    {
     "name": "stderr",
     "output_type": "stream",
     "text": [
      "\u001b[32m\u001b[1m   Resolving\u001b[22m\u001b[39m package versions...\n",
      "\u001b[32m\u001b[1m  No Changes\u001b[22m\u001b[39m to `C:\\Users\\acer\\.julia\\environments\\v1.9\\Project.toml`\n",
      "\u001b[32m\u001b[1m  No Changes\u001b[22m\u001b[39m to `C:\\Users\\acer\\.julia\\environments\\v1.9\\Manifest.toml`\n",
      "\u001b[32m\u001b[1m   Resolving\u001b[22m\u001b[39m package versions...\n",
      "\u001b[32m\u001b[1m  No Changes\u001b[22m\u001b[39m to `C:\\Users\\acer\\.julia\\environments\\v1.9\\Project.toml`\n",
      "\u001b[32m\u001b[1m  No Changes\u001b[22m\u001b[39m to `C:\\Users\\acer\\.julia\\environments\\v1.9\\Manifest.toml`\n",
      "\u001b[32m\u001b[1m   Resolving\u001b[22m\u001b[39m package versions...\n",
      "\u001b[32m\u001b[1m  No Changes\u001b[22m\u001b[39m to `C:\\Users\\acer\\.julia\\environments\\v1.9\\Project.toml`\n",
      "\u001b[32m\u001b[1m  No Changes\u001b[22m\u001b[39m to `C:\\Users\\acer\\.julia\\environments\\v1.9\\Manifest.toml`\n",
      "\u001b[32m\u001b[1m   Resolving\u001b[22m\u001b[39m package versions...\n",
      "\u001b[32m\u001b[1m  No Changes\u001b[22m\u001b[39m to `C:\\Users\\acer\\.julia\\environments\\v1.9\\Project.toml`\n",
      "\u001b[32m\u001b[1m  No Changes\u001b[22m\u001b[39m to `C:\\Users\\acer\\.julia\\environments\\v1.9\\Manifest.toml`\n",
      "\u001b[32m\u001b[1m   Resolving\u001b[22m\u001b[39m package versions...\n",
      "\u001b[32m\u001b[1m  No Changes\u001b[22m\u001b[39m to `C:\\Users\\acer\\.julia\\environments\\v1.9\\Project.toml`\n",
      "\u001b[32m\u001b[1m  No Changes\u001b[22m\u001b[39m to `C:\\Users\\acer\\.julia\\environments\\v1.9\\Manifest.toml`\n"
     ]
    }
   ],
   "source": [
    "import Pkg; Pkg.add(\"DecisionTree\")\n",
    "import Pkg; Pkg.add(\"ScikitLearn\")\n",
    "import Pkg; Pkg.add(\"CSV\")\n",
    "import Pkg; Pkg.add(\"DataFrames\")\n",
    "import Pkg; Pkg.add(\"PyPlot\")"
   ]
  },
  {
   "cell_type": "code",
   "execution_count": 1,
   "id": "6327c0e8-43ac-41b2-acd6-9a072a3fa88a",
   "metadata": {
    "collapsed": true,
    "execution": {
     "iopub.execute_input": "2023-10-16T19:36:12.955",
     "iopub.status.busy": "2023-10-16T19:35:56.426",
     "iopub.status.idle": "2023-10-16T19:38:33.261",
     "shell.execute_reply": "2023-10-16T19:38:33.129"
    },
    "jupyter": {
     "outputs_hidden": true
    },
    "tags": []
   },
   "outputs": [
    {
     "name": "stderr",
     "output_type": "stream",
     "text": [
      "\u001b[32m\u001b[1m   Resolving\u001b[22m\u001b[39m package versions...\n",
      "\u001b[32m\u001b[1m   Installed\u001b[22m\u001b[39m EarlyStopping ─────────── v0.1.9\n",
      "\u001b[32m\u001b[1m   Installed\u001b[22m\u001b[39m ProgressMeter ─────────── v1.9.0\n",
      "\u001b[32m\u001b[1m   Installed\u001b[22m\u001b[39m Memento ───────────────── v1.4.1\n",
      "\u001b[32m\u001b[1m   Installed\u001b[22m\u001b[39m MLJModels ─────────────── v0.14.7\n",
      "\u001b[32m\u001b[1m   Installed\u001b[22m\u001b[39m ComputationalResources ── v0.3.2\n",
      "\u001b[32m\u001b[1m   Installed\u001b[22m\u001b[39m MLJScientificTypes ────── v0.4.5\n",
      "\u001b[32m\u001b[1m   Installed\u001b[22m\u001b[39m ColorTypes ────────────── v0.10.12\n",
      "\u001b[32m\u001b[1m   Installed\u001b[22m\u001b[39m PersistenceDiagramsBase ─ v0.1.1\n",
      "\u001b[32m\u001b[1m   Installed\u001b[22m\u001b[39m JLSO ──────────────────── v2.7.0\n",
      "\u001b[32m\u001b[1m   Installed\u001b[22m\u001b[39m IterationControl ──────── v0.4.0\n",
      "\u001b[32m\u001b[1m   Installed\u001b[22m\u001b[39m MLJSerialization ──────── v1.1.3\n",
      "\u001b[32m\u001b[1m   Installed\u001b[22m\u001b[39m MLJIteration ──────────── v0.3.0\n",
      "\u001b[32m\u001b[1m   Installed\u001b[22m\u001b[39m MLJBase ───────────────── v0.18.1\n",
      "\u001b[32m\u001b[1m   Installed\u001b[22m\u001b[39m LearnBase ─────────────── v0.4.1\n",
      "\u001b[32m\u001b[1m   Installed\u001b[22m\u001b[39m BSON ──────────────────── v0.3.7\n",
      "\u001b[32m\u001b[1m   Installed\u001b[22m\u001b[39m URIs ──────────────────── v1.5.1\n",
      "\u001b[32m\u001b[1m   Installed\u001b[22m\u001b[39m MLJEnsembles ──────────── v0.1.1\n",
      "\u001b[32m\u001b[1m   Installed\u001b[22m\u001b[39m ScientificTypesBase ───── v1.0.0\n",
      "\u001b[32m\u001b[1m   Installed\u001b[22m\u001b[39m MLJTuning ─────────────── v0.6.9\n",
      "\u001b[32m\u001b[1m   Installed\u001b[22m\u001b[39m MLJOpenML ─────────────── v1.0.0\n",
      "\u001b[32m\u001b[1m   Installed\u001b[22m\u001b[39m LossFunctions ─────────── v0.6.2\n",
      "\u001b[32m\u001b[1m   Installed\u001b[22m\u001b[39m LatinHypercubeSampling ── v1.9.0\n",
      "\u001b[32m\u001b[1m   Installed\u001b[22m\u001b[39m MLJ ───────────────────── v0.16.5\n",
      "\u001b[32m\u001b[1m    Updating\u001b[22m\u001b[39m `C:\\Users\\acer\\.julia\\environments\\v1.9\\Project.toml`\n",
      "\u001b[32m⌃\u001b[39m \u001b[90m[add582a8] \u001b[39m\u001b[92m+ MLJ v0.16.5\u001b[39m\n",
      "\u001b[32m\u001b[1m    Updating\u001b[22m\u001b[39m `C:\\Users\\acer\\.julia\\environments\\v1.9\\Manifest.toml`\n",
      "  \u001b[90m[fbb218c0] \u001b[39m\u001b[92m+ BSON v0.3.7\u001b[39m\n",
      "\u001b[33m⌅\u001b[39m \u001b[90m[3da002f7] \u001b[39m\u001b[95m↓ ColorTypes v0.11.4 ⇒ v0.10.12\u001b[39m\n",
      "  \u001b[90m[ed09eef8] \u001b[39m\u001b[92m+ ComputationalResources v0.3.2\u001b[39m\n",
      "\u001b[33m⌅\u001b[39m \u001b[90m[792122b4] \u001b[39m\u001b[92m+ EarlyStopping v0.1.9\u001b[39m\n",
      "\u001b[33m⌅\u001b[39m \u001b[90m[cd3eb016] \u001b[39m\u001b[92m+ HTTP v0.9.17\u001b[39m\n",
      "  \u001b[90m[83e8ac13] \u001b[39m\u001b[92m+ IniFile v0.5.1\u001b[39m\n",
      "\u001b[33m⌅\u001b[39m \u001b[90m[b3c1a2ee] \u001b[39m\u001b[92m+ IterationControl v0.4.0\u001b[39m\n",
      "  \u001b[90m[9da8a3cd] \u001b[39m\u001b[92m+ JLSO v2.7.0\u001b[39m\n",
      "  \u001b[90m[a5e1c1ea] \u001b[39m\u001b[92m+ LatinHypercubeSampling v1.9.0\u001b[39m\n",
      "\u001b[33m⌅\u001b[39m \u001b[90m[7f8f8fb0] \u001b[39m\u001b[92m+ LearnBase v0.4.1\u001b[39m\n",
      "\u001b[33m⌅\u001b[39m \u001b[90m[30fc2ffe] \u001b[39m\u001b[92m+ LossFunctions v0.6.2\u001b[39m\n",
      "\u001b[32m⌃\u001b[39m \u001b[90m[add582a8] \u001b[39m\u001b[92m+ MLJ v0.16.5\u001b[39m\n",
      "\u001b[33m⌅\u001b[39m \u001b[90m[a7f614a8] \u001b[39m\u001b[92m+ MLJBase v0.18.1\u001b[39m\n",
      "\u001b[33m⌅\u001b[39m \u001b[90m[50ed68f4] \u001b[39m\u001b[92m+ MLJEnsembles v0.1.1\u001b[39m\n",
      "\u001b[33m⌅\u001b[39m \u001b[90m[614be32b] \u001b[39m\u001b[92m+ MLJIteration v0.3.0\u001b[39m\n",
      "\u001b[32m⌃\u001b[39m \u001b[90m[e80e1ace] \u001b[39m\u001b[92m+ MLJModelInterface v1.1.0\u001b[39m\n",
      "\u001b[33m⌅\u001b[39m \u001b[90m[d491faf4] \u001b[39m\u001b[92m+ MLJModels v0.14.7\u001b[39m\n",
      "\u001b[32m⌃\u001b[39m \u001b[90m[cbea4545] \u001b[39m\u001b[92m+ MLJOpenML v1.0.0\u001b[39m\n",
      "\u001b[32m⌃\u001b[39m \u001b[90m[2e2323e0] \u001b[39m\u001b[92m+ MLJScientificTypes v0.4.5\u001b[39m\n",
      "  \u001b[90m[17bed46d] \u001b[39m\u001b[92m+ MLJSerialization v1.1.3\u001b[39m\n",
      "\u001b[33m⌅\u001b[39m \u001b[90m[03970b2e] \u001b[39m\u001b[92m+ MLJTuning v0.6.9\u001b[39m\n",
      "  \u001b[90m[f28f55f0] \u001b[39m\u001b[92m+ Memento v1.4.1\u001b[39m\n",
      "  \u001b[90m[b1ad91c1] \u001b[39m\u001b[92m+ PersistenceDiagramsBase v0.1.1\u001b[39m\n",
      "  \u001b[90m[92933f4c] \u001b[39m\u001b[92m+ ProgressMeter v1.9.0\u001b[39m\n",
      "\u001b[33m⌅\u001b[39m \u001b[90m[321657f4] \u001b[39m\u001b[92m+ ScientificTypes v1.1.2\u001b[39m\n",
      "\u001b[33m⌅\u001b[39m \u001b[90m[30f210dd] \u001b[39m\u001b[92m+ ScientificTypesBase v1.0.0\u001b[39m\n",
      "  \u001b[90m[860ef19b] \u001b[39m\u001b[92m+ StableRNGs v1.0.0\u001b[39m\n",
      "\u001b[33m⌅\u001b[39m \u001b[90m[64bff920] \u001b[39m\u001b[92m+ StatisticalTraits v1.1.0\u001b[39m\n",
      "  \u001b[90m[5c2747f8] \u001b[39m\u001b[92m+ URIs v1.5.1\u001b[39m\n",
      "\u001b[36m\u001b[1m        Info\u001b[22m\u001b[39m Packages marked with \u001b[32m⌃\u001b[39m and \u001b[33m⌅\u001b[39m have new versions available, but those with \u001b[33m⌅\u001b[39m are restricted by compatibility constraints from upgrading. To see why use `status --outdated -m`\n",
      "\u001b[32m\u001b[1mPrecompiling\u001b[22m\u001b[39m project...\n",
      "\u001b[32m  ✓ \u001b[39m\u001b[90mScientificTypesBase\u001b[39m\n",
      "\u001b[32m  ✓ \u001b[39m\u001b[90mStableRNGs\u001b[39m\n",
      "\u001b[32m  ✓ \u001b[39m\u001b[90mScientificTypes\u001b[39m\n",
      "\u001b[32m  ✓ \u001b[39m\u001b[90mLearnBase\u001b[39m\n",
      "\u001b[32m  ✓ \u001b[39m\u001b[90mEarlyStopping\u001b[39m\n",
      "\u001b[32m  ✓ \u001b[39m\u001b[90mIniFile\u001b[39m\n",
      "\u001b[32m  ✓ \u001b[39m\u001b[90mComputationalResources\u001b[39m\n",
      "\u001b[32m  ✓ \u001b[39m\u001b[90mURIs\u001b[39m\n",
      "\u001b[32m  ✓ \u001b[39m\u001b[90mProgressMeter\u001b[39m\n",
      "\u001b[32m  ✓ \u001b[39m\u001b[90mBSON\u001b[39m\n",
      "\u001b[32m  ✓ \u001b[39m\u001b[90mPersistenceDiagramsBase\u001b[39m\n",
      "\u001b[32m  ✓ \u001b[39m\u001b[90mLatinHypercubeSampling\u001b[39m\n",
      "\u001b[32m  ✓ \u001b[39m\u001b[90mMemento\u001b[39m\n",
      "\u001b[32m  ✓ \u001b[39m\u001b[90mStatisticalTraits\u001b[39m\n",
      "\u001b[32m  ✓ \u001b[39m\u001b[90mLossFunctions\u001b[39m\n",
      "\u001b[32m  ✓ \u001b[39m\u001b[90mIterationControl\u001b[39m\n",
      "\u001b[32m  ✓ \u001b[39m\u001b[90mJLSO\u001b[39m\n",
      "\u001b[32m  ✓ \u001b[39m\u001b[90mMLJModelInterface\u001b[39m\n",
      "\u001b[32m  ✓ \u001b[39m\u001b[90mHTTP\u001b[39m\n",
      "\u001b[32m  ✓ \u001b[39m\u001b[90mMLJOpenML\u001b[39m\n",
      "\u001b[32m  ✓ \u001b[39m\u001b[90mDelayDiffEq\u001b[39m\n",
      "\u001b[32m  ✓ \u001b[39m\u001b[90mStochasticDiffEq\u001b[39m\n",
      "\u001b[32m  ✓ \u001b[39m\u001b[90mColorTypes\u001b[39m\n",
      "\u001b[32m  ✓ \u001b[39m\u001b[90mMLJScientificTypes\u001b[39m\n",
      "\u001b[32m  ✓ \u001b[39m\u001b[90mColors\u001b[39m\n",
      "\u001b[32m  ✓ \u001b[39mDifferentialEquations\n",
      "\u001b[32m  ✓ \u001b[39m\u001b[90mMLJBase\u001b[39m\n",
      "\u001b[32m  ✓ \u001b[39mPyPlot\n",
      "\u001b[32m  ✓ \u001b[39m\u001b[90mMLJTuning\u001b[39m\n",
      "\u001b[32m  ✓ \u001b[39m\u001b[90mMLJSerialization\u001b[39m\n",
      "\u001b[32m  ✓ \u001b[39m\u001b[90mMLJIteration\u001b[39m\n",
      "\u001b[32m  ✓ \u001b[39m\u001b[90mMLJEnsembles\u001b[39m\n",
      "\u001b[32m  ✓ \u001b[39m\u001b[90mMLJModels\u001b[39m\n",
      "\u001b[32m  ✓ \u001b[39mMLJ\n",
      "  34 dependencies successfully precompiled in 74 seconds. 187 already precompiled.\n",
      "  \u001b[33m2\u001b[39m dependencies had warnings during precompilation:\u001b[33m\n",
      "┌ \u001b[39mMLJIteration [614be32b-d00c-4edb-bd02-1eb411ab5e55]\u001b[33m\n",
      "│  \u001b[39mWARNING: method definition for is_pure_julia at C:\\Users\\acer\\.julia\\packages\\MLJIteration\\sjbIh\\src\\traits.jl:17 declares type variable T but does not use it.\u001b[33m\n",
      "│  \u001b[39mWARNING: method definition for input_scitype at C:\\Users\\acer\\.julia\\packages\\MLJIteration\\sjbIh\\src\\traits.jl:19 declares type variable T but does not use it.\u001b[33m\n",
      "│  \u001b[39mWARNING: method definition for output_scitype at C:\\Users\\acer\\.julia\\packages\\MLJIteration\\sjbIh\\src\\traits.jl:21 declares type variable T but does not use it.\u001b[33m\n",
      "│  \u001b[39mWARNING: method definition for target_scitype at C:\\Users\\acer\\.julia\\packages\\MLJIteration\\sjbIh\\src\\traits.jl:23 declares type variable T but does not use it.\u001b[33m\n",
      "└  \u001b[39m\u001b[33m\n",
      "┌ \u001b[39mMLJBase [a7f614a8-145f-11e9-1d2a-a57a1082229d]\u001b[33m\n",
      "│  \u001b[39mWARNING: method definition for rand at C:\\Users\\acer\\.julia\\packages\\MLJBase\\KWyqX\\src\\hyperparam\\one_dimensional_range_methods.jl:406 declares type variable I but does not use it.\u001b[33m\n",
      "│  \u001b[39mWARNING: method definition for rand at C:\\Users\\acer\\.julia\\packages\\MLJBase\\KWyqX\\src\\hyperparam\\one_dimensional_range_methods.jl:410 declares type variable I but does not use it.\u001b[33m\n",
      "│  \u001b[39mWARNING: method definition for #MulticlassTruePositiveRate#399 at C:\\Users\\acer\\.julia\\packages\\MLJBase\\KWyqX\\src\\measures\\finite.jl:762 declares type variable T but does not use it.\u001b[33m\n",
      "│  \u001b[39mWARNING: method definition for #MulticlassTruePositiveRate#399 at C:\\Users\\acer\\.julia\\packages\\MLJBase\\KWyqX\\src\\measures\\finite.jl:762 declares type variable U but does not use it.\u001b[33m\n",
      "│  \u001b[39mWARNING: method definition for #MulticlassTrueNegativeRate#400 at C:\\Users\\acer\\.julia\\packages\\MLJBase\\KWyqX\\src\\measures\\finite.jl:762 declares type variable T but does not use it.\u001b[33m\n",
      "│  \u001b[39mWARNING: method definition for #MulticlassTrueNegativeRate#400 at C:\\Users\\acer\\.julia\\packages\\MLJBase\\KWyqX\\src\\measures\\finite.jl:762 declares type variable U but does not use it.\u001b[33m\n",
      "│  \u001b[39mWARNING: method definition for #MulticlassFalsePositiveRate#401 at C:\\Users\\acer\\.julia\\packages\\MLJBase\\KWyqX\\src\\measures\\finite.jl:762 declares type variable T but does not use it.\u001b[33m\n",
      "│  \u001b[39mWARNING: method definition for #MulticlassFalsePositiveRate#401 at C:\\Users\\acer\\.julia\\packages\\MLJBase\\KWyqX\\src\\measures\\finite.jl:762 declares type variable U but does not use it.\u001b[33m\n",
      "│  \u001b[39mWARNING: method definition for #MulticlassFalseNegativeRate#402 at C:\\Users\\acer\\.julia\\packages\\MLJBase\\KWyqX\\src\\measures\\finite.jl:762 declares type variable T but does not use it.\u001b[33m\n",
      "│  \u001b[39mWARNING: method definition for #MulticlassFalseNegativeRate#402 at C:\\Users\\acer\\.julia\\packages\\MLJBase\\KWyqX\\src\\measures\\finite.jl:762 declares type variable U but does not use it.\u001b[33m\n",
      "│  \u001b[39mWARNING: method definition for #MulticlassFalseDiscoveryRate#403 at C:\\Users\\acer\\.julia\\packages\\MLJBase\\KWyqX\\src\\measures\\finite.jl:762 declares type variable T but does not use it.\u001b[33m\n",
      "│  \u001b[39mWARNING: method definition for #MulticlassFalseDiscoveryRate#403 at C:\\Users\\acer\\.julia\\packages\\MLJBase\\KWyqX\\src\\measures\\finite.jl:762 declares type variable U but does not use it.\u001b[33m\n",
      "│  \u001b[39mWARNING: method definition for #MulticlassPrecision#404 at C:\\Users\\acer\\.julia\\packages\\MLJBase\\KWyqX\\src\\measures\\finite.jl:762 declares type variable T but does not use it.\u001b[33m\n",
      "│  \u001b[39mWARNING: method definition for #MulticlassPrecision#404 at C:\\Users\\acer\\.julia\\packages\\MLJBase\\KWyqX\\src\\measures\\finite.jl:762 declares type variable U but does not use it.\u001b[33m\n",
      "│  \u001b[39mWARNING: method definition for #MulticlassNegativePredictiveValue#405 at C:\\Users\\acer\\.julia\\packages\\MLJBase\\KWyqX\\src\\measures\\finite.jl:762 declares type variable T but does not use it.\u001b[33m\n",
      "│  \u001b[39mWARNING: method definition for #MulticlassNegativePredictiveValue#405 at C:\\Users\\acer\\.julia\\packages\\MLJBase\\KWyqX\\src\\measures\\finite.jl:762 declares type variable U but does not use it.\u001b[33m\n",
      "└  \u001b[39m\n"
     ]
    }
   ],
   "source": [
    "import Pkg; Pkg.add(\"MLJ\")"
   ]
  },
  {
   "cell_type": "markdown",
   "id": "860b5542-9a4d-4f91-a2ab-c3601098c83b",
   "metadata": {},
   "source": [
    "# Use Package"
   ]
  },
  {
   "cell_type": "code",
   "execution_count": 2,
   "id": "e2935fa0-cb16-47d9-b416-8d94fa043bb6",
   "metadata": {
    "execution": {
     "iopub.execute_input": "2023-10-13T11:55:35.546",
     "iopub.status.busy": "2023-10-13T11:55:35.546",
     "iopub.status.idle": "2023-10-13T11:55:53.200",
     "shell.execute_reply": "2023-10-13T11:55:53.200"
    },
    "tags": []
   },
   "outputs": [],
   "source": [
    "using DecisionTree\n",
    "using ScikitLearn, Random, Statistics\n",
    "using PyPlot"
   ]
  },
  {
   "cell_type": "markdown",
   "id": "11ad4602-6319-497a-a5e6-4707f9dc857a",
   "metadata": {},
   "source": [
    "# Practice"
   ]
  },
  {
   "cell_type": "code",
   "execution_count": 3,
   "id": "f5c895c6-8ee8-4f87-b246-9b5e20d38429",
   "metadata": {
    "execution": {
     "iopub.execute_input": "2023-10-13T11:55:53.667",
     "iopub.status.busy": "2023-10-13T11:55:53.201",
     "iopub.status.idle": "2023-10-13T11:55:56.422",
     "shell.execute_reply": "2023-10-13T11:55:56.421"
    },
    "tags": []
   },
   "outputs": [
    {
     "name": "stdout",
     "output_type": "stream",
     "text": [
      "size(X) == (50, 1): true\n",
      "size(y) == (50, 1): true\n"
     ]
    },
    {
     "data": {
      "text/plain": [
       "50-element Vector{Float64}:\n",
       " 7.565619320267532\n",
       " 1.678775054591839\n",
       " 3.7621223580683165\n",
       " 0.5639069308673265\n",
       " 0.34313843825434065\n",
       " 6.7674726433478485\n",
       " 7.533408857752562\n",
       " 1.1286737127976096\n",
       " 0.986112306143899\n",
       " 4.157797089031169\n",
       " 4.952504158421339\n",
       " 1.6240847758138135\n",
       " 6.706641720718664\n",
       " ⋮\n",
       " 7.042048337488516\n",
       " 7.305737698830511\n",
       " 3.912589746639027\n",
       " 6.706540637255793\n",
       " 9.218725899778345\n",
       " 0.42961598081360464\n",
       " 8.717603912425544\n",
       " 3.116034811080584\n",
       " 5.037386344157057\n",
       " 8.973876893248768\n",
       " 8.31574939401581\n",
       " 4.049054233584065"
      ]
     },
     "execution_count": 3,
     "metadata": {},
     "output_type": "execute_result"
    }
   ],
   "source": [
    "# Create Dataset\n",
    "X = 5 * rand(50, 1)\n",
    "y = 2 .*(X).+0.5.*rand(50, 1)\n",
    "\n",
    "println(\"size(X) == (50, 1): $(size(X) == (50, 1))\")\n",
    "println(\"size(y) == (50, 1): $(size(y) == (50, 1))\")\n",
    "# Every 5 points are shifted by a random amount\n",
    "#y[1:5:end] += 10 * (0.5 .- rand(10))\n",
    "X = vec(X)\n",
    "y = vec(y)"
   ]
  },
  {
   "cell_type": "code",
   "execution_count": 4,
   "id": "52437f2b-e2d3-4e8a-aa14-54a8b8159cb4",
   "metadata": {
    "execution": {
     "iopub.execute_input": "2023-10-13T11:55:56.422",
     "iopub.status.busy": "2023-10-13T11:55:56.422",
     "iopub.status.idle": "2023-10-13T11:55:58.051",
     "shell.execute_reply": "2023-10-13T11:55:58.051"
    },
    "tags": []
   },
   "outputs": [
    {
     "data": {
      "text/plain": [
       "ScikitLearn.Models.LinearRegression{Matrix{Float64}, Float64}([1.9944296204176537;;], [0.26438093283283515])"
      ]
     },
     "execution_count": 4,
     "metadata": {},
     "output_type": "execute_result"
    }
   ],
   "source": [
    "# Modeling\n",
    "# Create model\n",
    "lr = ScikitLearn.Models.LinearRegression(multi_output=false)\n",
    "# Train the model\n",
    "fit!(lr, X, y)"
   ]
  },
  {
   "cell_type": "code",
   "execution_count": 13,
   "id": "fb19753b-bdc8-4fcc-a03b-491dc35e8fc5",
   "metadata": {
    "execution": {
     "iopub.execute_input": "2023-10-13T11:56:37.394",
     "iopub.status.busy": "2023-10-13T11:56:37.393",
     "iopub.status.idle": "2023-10-13T11:56:37.399",
     "shell.execute_reply": "2023-10-13T11:56:37.399"
    },
    "tags": []
   },
   "outputs": [
    {
     "data": {
      "text/plain": [
       "50-element Vector{Float64}:\n",
       " 7.576957928363498\n",
       " 1.7022355039244532\n",
       " 3.7364618928167928\n",
       " 0.40086057551607135\n",
       " 0.27432886256796957\n",
       " 6.912798485331208\n",
       " 7.2810250152915845\n",
       " 1.1180568036098468\n",
       " 1.1208067168290774\n",
       " 4.149234620977342\n",
       " 4.712252702733377\n",
       " 1.4054832646042645\n",
       " 6.7489453147677905\n",
       " ⋮\n",
       " 7.134182144476844\n",
       " 7.113426919646697\n",
       " 4.116542938783953\n",
       " 6.874342190873588\n",
       " 9.172931266628382\n",
       " 0.6645027008061125\n",
       " 8.670666076113061\n",
       " 3.1824372289459517\n",
       " 4.843693668865364\n",
       " 9.10512761781542\n",
       " 8.289277973865042\n",
       " 4.031880520121311"
      ]
     },
     "execution_count": 13,
     "metadata": {},
     "output_type": "execute_result"
    }
   ],
   "source": [
    "# Prediction\n",
    "y_pred = vec(predict(lr, X))\n",
    "\n"
   ]
  },
  {
   "cell_type": "code",
   "execution_count": 6,
   "id": "ba2d1226-e121-4006-87d0-eda58d6e826b",
   "metadata": {
    "execution": {
     "iopub.execute_input": "2023-10-13T11:55:59.401",
     "iopub.status.busy": "2023-10-13T11:55:59.401",
     "iopub.status.idle": "2023-10-13T11:56:03.400",
     "shell.execute_reply": "2023-10-13T11:56:03.400"
    },
    "tags": []
   },
   "outputs": [
    {
     "data": {
      "image/png": "[encoded data removed]",
      "text/plain": [
       "Figure(PyObject <Figure size 640x480 with 1 Axes>)"
      ]
     },
     "metadata": {},
     "output_type": "display_data"
    },
    {
     "data": {
      "text/plain": [
       "([1.9944296204176537;;], [0.26438093283283515])"
      ]
     },
     "execution_count": 6,
     "metadata": {},
     "output_type": "execute_result"
    }
   ],
   "source": [
    "#Plot\n",
    "fig2 = scatter(y_pred, y) # Plot our approximation \n",
    "plot(y, y, \"r-\")\n",
    "(lr.coefs,lr.intercepts)"
   ]
  },
  {
   "cell_type": "code",
   "execution_count": null,
   "id": "39682886-d408-43f0-bbe0-2246880f2ead",
   "metadata": {},
   "outputs": [],
   "source": []
  },
  {
   "cell_type": "markdown",
   "id": "a6af239e-cf00-42b8-8350-2f2659823696",
   "metadata": {},
   "source": [
    "# Export to CSV"
   ]
  },
  {
   "cell_type": "code",
   "execution_count": 14,
   "id": "13a36a8b-4a02-42cc-a37a-ea9cc73f547f",
   "metadata": {
    "execution": {
     "iopub.execute_input": "2023-10-13T11:56:46.979",
     "iopub.status.busy": "2023-10-13T11:56:46.979",
     "iopub.status.idle": "2023-10-13T11:56:47.072",
     "shell.execute_reply": "2023-10-13T11:56:47.072"
    },
    "tags": []
   },
   "outputs": [
    {
     "data": {
      "text/html": [
       "<div><div style = \"float: left;\"><span>50×3 DataFrame</span></div><div style = \"float: right;\"><span style = \"font-style: italic;\">25 rows omitted</span></div><div style = \"clear: both;\"></div></div><div class = \"data-frame\" style = \"overflow-x: scroll;\"><table class = \"data-frame\" style = \"margin-bottom: 6px;\"><thead><tr class = \"header\"><th class = \"rowNumber\" style = \"font-weight: bold; text-align: right;\">Row</th><th style = \"text-align: left;\">X</th><th style = \"text-align: left;\">Y</th><th style = \"text-align: left;\">y_predict</th></tr><tr class = \"subheader headerLastRow\"><th class = \"rowNumber\" style = \"font-weight: bold; text-align: right;\"></th><th title = \"Float64\" style = \"text-align: left;\">Float64</th><th title = \"Float64\" style = \"text-align: left;\">Float64</th><th title = \"Float64\" style = \"text-align: left;\">Float64</th></tr></thead><tbody><tr><td class = \"rowNumber\" style = \"font-weight: bold; text-align: right;\">1</td><td style = \"text-align: right;\">3.6665</td><td style = \"text-align: right;\">7.56562</td><td style = \"text-align: right;\">7.57696</td></tr><tr><td class = \"rowNumber\" style = \"font-weight: bold; text-align: right;\">2</td><td style = \"text-align: right;\">0.720935</td><td style = \"text-align: right;\">1.67878</td><td style = \"text-align: right;\">1.70224</td></tr><tr><td class = \"rowNumber\" style = \"font-weight: bold; text-align: right;\">3</td><td style = \"text-align: right;\">1.74089</td><td style = \"text-align: right;\">3.76212</td><td style = \"text-align: right;\">3.73646</td></tr><tr><td class = \"rowNumber\" style = \"font-weight: bold; text-align: right;\">4</td><td style = \"text-align: right;\">0.0684304</td><td style = \"text-align: right;\">0.563907</td><td style = \"text-align: right;\">0.400861</td></tr><tr><td class = \"rowNumber\" style = \"font-weight: bold; text-align: right;\">5</td><td style = \"text-align: right;\">0.00498786</td><td style = \"text-align: right;\">0.343138</td><td style = \"text-align: right;\">0.274329</td></tr><tr><td class = \"rowNumber\" style = \"font-weight: bold; text-align: right;\">6</td><td style = \"text-align: right;\">3.33349</td><td style = \"text-align: right;\">6.76747</td><td style = \"text-align: right;\">6.9128</td></tr><tr><td class = \"rowNumber\" style = \"font-weight: bold; text-align: right;\">7</td><td style = \"text-align: right;\">3.51812</td><td style = \"text-align: right;\">7.53341</td><td style = \"text-align: right;\">7.28103</td></tr><tr><td class = \"rowNumber\" style = \"font-weight: bold; text-align: right;\">8</td><td style = \"text-align: right;\">0.42803</td><td style = \"text-align: right;\">1.12867</td><td style = \"text-align: right;\">1.11806</td></tr><tr><td class = \"rowNumber\" style = \"font-weight: bold; text-align: right;\">9</td><td style = \"text-align: right;\">0.429409</td><td style = \"text-align: right;\">0.986112</td><td style = \"text-align: right;\">1.12081</td></tr><tr><td class = \"rowNumber\" style = \"font-weight: bold; text-align: right;\">10</td><td style = \"text-align: right;\">1.94785</td><td style = \"text-align: right;\">4.1578</td><td style = \"text-align: right;\">4.14923</td></tr><tr><td class = \"rowNumber\" style = \"font-weight: bold; text-align: right;\">11</td><td style = \"text-align: right;\">2.23015</td><td style = \"text-align: right;\">4.9525</td><td style = \"text-align: right;\">4.71225</td></tr><tr><td class = \"rowNumber\" style = \"font-weight: bold; text-align: right;\">12</td><td style = \"text-align: right;\">0.572145</td><td style = \"text-align: right;\">1.62408</td><td style = \"text-align: right;\">1.40548</td></tr><tr><td class = \"rowNumber\" style = \"font-weight: bold; text-align: right;\">13</td><td style = \"text-align: right;\">3.25134</td><td style = \"text-align: right;\">6.70664</td><td style = \"text-align: right;\">6.74895</td></tr><tr><td style = \"text-align: right;\">&vellip;</td><td style = \"text-align: right;\">&vellip;</td><td style = \"text-align: right;\">&vellip;</td><td style = \"text-align: right;\">&vellip;</td></tr><tr><td class = \"rowNumber\" style = \"font-weight: bold; text-align: right;\">39</td><td style = \"text-align: right;\">3.44449</td><td style = \"text-align: right;\">7.04205</td><td style = \"text-align: right;\">7.13418</td></tr><tr><td class = \"rowNumber\" style = \"font-weight: bold; text-align: right;\">40</td><td style = \"text-align: right;\">3.43409</td><td style = \"text-align: right;\">7.30574</td><td style = \"text-align: right;\">7.11343</td></tr><tr><td class = \"rowNumber\" style = \"font-weight: bold; text-align: right;\">41</td><td style = \"text-align: right;\">1.93146</td><td style = \"text-align: right;\">3.91259</td><td style = \"text-align: right;\">4.11654</td></tr><tr><td class = \"rowNumber\" style = \"font-weight: bold; text-align: right;\">42</td><td style = \"text-align: right;\">3.31421</td><td style = \"text-align: right;\">6.70654</td><td style = \"text-align: right;\">6.87434</td></tr><tr><td class = \"rowNumber\" style = \"font-weight: bold; text-align: right;\">43</td><td style = \"text-align: right;\">4.46672</td><td style = \"text-align: right;\">9.21873</td><td style = \"text-align: right;\">9.17293</td></tr><tr><td class = \"rowNumber\" style = \"font-weight: bold; text-align: right;\">44</td><td style = \"text-align: right;\">0.20062</td><td style = \"text-align: right;\">0.429616</td><td style = \"text-align: right;\">0.664503</td></tr><tr><td class = \"rowNumber\" style = \"font-weight: bold; text-align: right;\">45</td><td style = \"text-align: right;\">4.21488</td><td style = \"text-align: right;\">8.7176</td><td style = \"text-align: right;\">8.67067</td></tr><tr><td class = \"rowNumber\" style = \"font-weight: bold; text-align: right;\">46</td><td style = \"text-align: right;\">1.4631</td><td style = \"text-align: right;\">3.11603</td><td style = \"text-align: right;\">3.18244</td></tr><tr><td class = \"rowNumber\" style = \"font-weight: bold; text-align: right;\">47</td><td style = \"text-align: right;\">2.29605</td><td style = \"text-align: right;\">5.03739</td><td style = \"text-align: right;\">4.84369</td></tr><tr><td class = \"rowNumber\" style = \"font-weight: bold; text-align: right;\">48</td><td style = \"text-align: right;\">4.43272</td><td style = \"text-align: right;\">8.97388</td><td style = \"text-align: right;\">9.10513</td></tr><tr><td class = \"rowNumber\" style = \"font-weight: bold; text-align: right;\">49</td><td style = \"text-align: right;\">4.02366</td><td style = \"text-align: right;\">8.31575</td><td style = \"text-align: right;\">8.28928</td></tr><tr><td class = \"rowNumber\" style = \"font-weight: bold; text-align: right;\">50</td><td style = \"text-align: right;\">1.88901</td><td style = \"text-align: right;\">4.04905</td><td style = \"text-align: right;\">4.03188</td></tr></tbody></table></div>"
      ],
      "text/latex": [
       "\\begin{tabular}{r|ccc}\n",
       "\t& X & Y & y\\_predict\\\\\n",
       "\t\\hline\n",
       "\t& Float64 & Float64 & Float64\\\\\n",
       "\t\\hline\n",
       "\t1 & 3.6665 & 7.56562 & 7.57696 \\\\\n",
       "\t2 & 0.720935 & 1.67878 & 1.70224 \\\\\n",
       "\t3 & 1.74089 & 3.76212 & 3.73646 \\\\\n",
       "\t4 & 0.0684304 & 0.563907 & 0.400861 \\\\\n",
       "\t5 & 0.00498786 & 0.343138 & 0.274329 \\\\\n",
       "\t6 & 3.33349 & 6.76747 & 6.9128 \\\\\n",
       "\t7 & 3.51812 & 7.53341 & 7.28103 \\\\\n",
       "\t8 & 0.42803 & 1.12867 & 1.11806 \\\\\n",
       "\t9 & 0.429409 & 0.986112 & 1.12081 \\\\\n",
       "\t10 & 1.94785 & 4.1578 & 4.14923 \\\\\n",
       "\t11 & 2.23015 & 4.9525 & 4.71225 \\\\\n",
       "\t12 & 0.572145 & 1.62408 & 1.40548 \\\\\n",
       "\t13 & 3.25134 & 6.70664 & 6.74895 \\\\\n",
       "\t14 & 3.77113 & 7.83054 & 7.78563 \\\\\n",
       "\t15 & 0.576077 & 1.39503 & 1.41332 \\\\\n",
       "\t16 & 3.65388 & 7.76494 & 7.55178 \\\\\n",
       "\t17 & 2.1096 & 4.69931 & 4.47183 \\\\\n",
       "\t18 & 2.62968 & 5.62055 & 5.50909 \\\\\n",
       "\t19 & 1.89691 & 4.26146 & 4.04763 \\\\\n",
       "\t20 & 1.05155 & 2.29126 & 2.36162 \\\\\n",
       "\t21 & 2.06958 & 4.545 & 4.39201 \\\\\n",
       "\t22 & 4.39328 & 9.07464 & 9.02646 \\\\\n",
       "\t23 & 4.78122 & 9.80531 & 9.80019 \\\\\n",
       "\t24 & 1.69123 & 3.56972 & 3.63741 \\\\\n",
       "\t25 & 2.47553 & 5.11785 & 5.20166 \\\\\n",
       "\t26 & 0.610376 & 1.5445 & 1.48173 \\\\\n",
       "\t27 & 0.535953 & 1.19684 & 1.3333 \\\\\n",
       "\t28 & 0.86926 & 1.86114 & 1.99806 \\\\\n",
       "\t29 & 0.867811 & 2.0592 & 1.99517 \\\\\n",
       "\t30 & 3.51762 & 7.18182 & 7.28002 \\\\\n",
       "\t$\\dots$ & $\\dots$ & $\\dots$ & $\\dots$ \\\\\n",
       "\\end{tabular}\n"
      ],
      "text/plain": [
       "\u001b[1m50×3 DataFrame\u001b[0m\n",
       "\u001b[1m Row \u001b[0m│\u001b[1m X          \u001b[0m\u001b[1m Y        \u001b[0m\u001b[1m y_predict \u001b[0m\n",
       "     │\u001b[90m Float64    \u001b[0m\u001b[90m Float64  \u001b[0m\u001b[90m Float64   \u001b[0m\n",
       "─────┼─────────────────────────────────\n",
       "   1 │ 3.6665      7.56562    7.57696\n",
       "   2 │ 0.720935    1.67878    1.70224\n",
       "   3 │ 1.74089     3.76212    3.73646\n",
       "   4 │ 0.0684304   0.563907   0.400861\n",
       "   5 │ 0.00498786  0.343138   0.274329\n",
       "   6 │ 3.33349     6.76747    6.9128\n",
       "   7 │ 3.51812     7.53341    7.28103\n",
       "   8 │ 0.42803     1.12867    1.11806\n",
       "   9 │ 0.429409    0.986112   1.12081\n",
       "  10 │ 1.94785     4.1578     4.14923\n",
       "  11 │ 2.23015     4.9525     4.71225\n",
       "  ⋮  │     ⋮          ⋮          ⋮\n",
       "  41 │ 1.93146     3.91259    4.11654\n",
       "  42 │ 3.31421     6.70654    6.87434\n",
       "  43 │ 4.46672     9.21873    9.17293\n",
       "  44 │ 0.20062     0.429616   0.664503\n",
       "  45 │ 4.21488     8.7176     8.67067\n",
       "  46 │ 1.4631      3.11603    3.18244\n",
       "  47 │ 2.29605     5.03739    4.84369\n",
       "  48 │ 4.43272     8.97388    9.10513\n",
       "  49 │ 4.02366     8.31575    8.28928\n",
       "  50 │ 1.88901     4.04905    4.03188\n",
       "\u001b[36m                        29 rows omitted\u001b[0m"
      ]
     },
     "execution_count": 14,
     "metadata": {},
     "output_type": "execute_result"
    }
   ],
   "source": [
    "using CSV\n",
    "using DataFrames\n",
    "\n",
    "df = DataFrame(X = X, \n",
    "               Y = y,\n",
    "               y_predict = y_pred\n",
    "               )"
   ]
  },
  {
   "cell_type": "code",
   "execution_count": 15,
   "id": "2506ba2e-4905-4536-a063-08c3e7c9cfb0",
   "metadata": {
    "execution": {
     "iopub.execute_input": "2023-10-13T11:56:59.759",
     "iopub.status.busy": "2023-10-13T11:56:59.759",
     "iopub.status.idle": "2023-10-13T11:57:01.717",
     "shell.execute_reply": "2023-10-13T11:57:01.717"
    },
    "tags": []
   },
   "outputs": [
    {
     "data": {
      "text/plain": [
       "\"EX_Linear-export_df.csv\""
      ]
     },
     "execution_count": 15,
     "metadata": {},
     "output_type": "execute_result"
    }
   ],
   "source": [
    "CSV.write(\"EX_Linear-export_df.csv\", df) "
   ]
  },
  {
   "cell_type": "code",
   "execution_count": null,
   "id": "107ff2bc-45d1-482e-9e8e-45e354dbccfc",
   "metadata": {},
   "outputs": [],
   "source": []
  }
 ],
 "metadata": {
  "kernelspec": {
   "display_name": "Julia 1.9.3",
   "language": "julia",
   "name": "julia-1.9"
  },
  "language_info": {
   "file_extension": ".jl",
   "mimetype": "application/julia",
   "name": "julia",
   "version": "1.9.3"
  }
 },
 "nbformat": 4,
 "nbformat_minor": 5
}
