{
 "cells": [
  {
   "cell_type": "markdown",
   "id": "d61dda22-d969-4615-8c9b-aee66bc8ff53",
   "metadata": {},
   "source": [
    "https://github.com/JuliaAI/DecisionTree.jl"
   ]
  },
  {
   "cell_type": "code",
   "execution_count": 5,
   "id": "98f66904-ac49-4221-a4d5-8bde3a2f4882",
   "metadata": {},
   "outputs": [
    {
     "name": "stdout",
     "output_type": "stream",
     "text": [
      "Feature 4 < 0.8 ?\n",
      "├─ Iris-setosa : 50/50\n",
      "└─ Feature 4 < 1.75 ?\n",
      "    ├─ Iris-versicolor : 49/54\n",
      "    └─ Iris-virginica : 45/46\n",
      "[\"Iris-setosa\", \"Iris-versicolor\", \"Iris-virginica\"]\n"
     ]
    },
    {
     "data": {
      "text/plain": [
       "5-element Vector{Float64}:\n",
       " 0.9333333333333333\n",
       " 0.9666666666666667\n",
       " 0.9\n",
       " 0.8666666666666667\n",
       " 1.0"
      ]
     },
     "execution_count": 5,
     "metadata": {},
     "output_type": "execute_result"
    }
   ],
   "source": [
    "using DecisionTree\n",
    "features, labels = load_data(\"iris\")    # also see \"adult\" and \"digits\" datasets\n",
    "\n",
    "# the data loaded are of type Array{Any}\n",
    "# cast them to concrete types for better performance\n",
    "features = float.(features)\n",
    "labels   = string.(labels)\n",
    "# train depth-truncated classifier\n",
    "model = DecisionTreeClassifier(max_depth=2)\n",
    "fit!(model, features, labels)\n",
    "# pretty print of the tree, to a depth of 5 nodes (optional)\n",
    "print_tree(model, 5)\n",
    "# apply learned model\n",
    "predict(model, [5.9,3.0,5.1,1.9])\n",
    "# get the probability of each label\n",
    "predict_proba(model, [5.9,3.0,5.1,1.9])\n",
    "println(get_classes(model)) # returns the ordering of the columns in predict_proba's output\n",
    "# run n-fold cross validation over 5 CV folds\n",
    "# See ScikitLearn.jl for installation instructions\n",
    "using ScikitLearn.CrossValidation: cross_val_score\n",
    "accuracy = cross_val_score(model, features, labels, cv=5)"
   ]
  },
  {
   "cell_type": "code",
   "execution_count": null,
   "id": "d40e559d-a541-4c9f-80df-235f6f748a97",
   "metadata": {},
   "outputs": [],
   "source": []
  }
 ],
 "metadata": {
  "kernelspec": {
   "display_name": "Julia 1.9.2",
   "language": "julia",
   "name": "julia-1.9"
  },
  "language_info": {
   "file_extension": ".jl",
   "mimetype": "application/julia",
   "name": "julia",
   "version": "1.9.2"
  },
  "toc-autonumbering": false,
  "toc-showmarkdowntxt": false
 },
 "nbformat": 4,
 "nbformat_minor": 5
}
