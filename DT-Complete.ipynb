{
 "cells": [
  {
   "cell_type": "markdown",
   "id": "3f809bee-55bf-445b-b026-8c229f3f0cbd",
   "metadata": {},
   "source": [
    "# Add Package"
   ]
  },
  {
   "cell_type": "code",
   "execution_count": 1,
   "id": "72096cda-10ea-4fc4-a2a7-f4304625c263",
   "metadata": {
    "execution": {
     "iopub.execute_input": "2023-10-16T19:51:25.788",
     "iopub.status.busy": "2023-10-16T19:51:17.641",
     "iopub.status.idle": "2023-10-16T19:52:03.381",
     "shell.execute_reply": "2023-10-16T19:52:03.266"
    },
    "tags": []
   },
   "outputs": [
    {
     "name": "stderr",
     "output_type": "stream",
     "text": [
      "\u001b[32m\u001b[1m   Resolving\u001b[22m\u001b[39m package versions...\n",
      "\u001b[32m\u001b[1m  No Changes\u001b[22m\u001b[39m to `C:\\Users\\acer\\.julia\\environments\\v1.9\\Project.toml`\n",
      "\u001b[32m\u001b[1m  No Changes\u001b[22m\u001b[39m to `C:\\Users\\acer\\.julia\\environments\\v1.9\\Manifest.toml`\n",
      "\u001b[32m\u001b[1m   Resolving\u001b[22m\u001b[39m package versions...\n",
      "\u001b[32m\u001b[1m  No Changes\u001b[22m\u001b[39m to `C:\\Users\\acer\\.julia\\environments\\v1.9\\Project.toml`\n",
      "\u001b[32m\u001b[1m  No Changes\u001b[22m\u001b[39m to `C:\\Users\\acer\\.julia\\environments\\v1.9\\Manifest.toml`\n",
      "\u001b[32m\u001b[1m   Resolving\u001b[22m\u001b[39m package versions...\n",
      "\u001b[32m\u001b[1m  No Changes\u001b[22m\u001b[39m to `C:\\Users\\acer\\.julia\\environments\\v1.9\\Project.toml`\n",
      "\u001b[32m\u001b[1m  No Changes\u001b[22m\u001b[39m to `C:\\Users\\acer\\.julia\\environments\\v1.9\\Manifest.toml`\n",
      "\u001b[32m\u001b[1m   Resolving\u001b[22m\u001b[39m package versions...\n",
      "\u001b[32m\u001b[1m  No Changes\u001b[22m\u001b[39m to `C:\\Users\\acer\\.julia\\environments\\v1.9\\Project.toml`\n",
      "\u001b[32m\u001b[1m  No Changes\u001b[22m\u001b[39m to `C:\\Users\\acer\\.julia\\environments\\v1.9\\Manifest.toml`\n"
     ]
    }
   ],
   "source": [
    "import Pkg; Pkg.add(\"DecisionTree\")\n",
    "import Pkg; Pkg.add(\"ScikitLearn\")\n",
    "import Pkg; Pkg.add(\"CSV\")\n",
    "import Pkg; Pkg.add(\"DataFrames\")"
   ]
  },
  {
   "cell_type": "markdown",
   "id": "775763dc-a659-4d37-a2f5-f82eff9adc4c",
   "metadata": {},
   "source": [
    "# Use Package"
   ]
  },
  {
   "cell_type": "code",
   "execution_count": 2,
   "id": "55ce1d58-c6a4-42c1-97d8-71917aeab2e9",
   "metadata": {
    "execution": {
     "iopub.execute_input": "2023-10-16T19:52:03.382",
     "iopub.status.busy": "2023-10-16T19:52:03.381",
     "iopub.status.idle": "2023-10-16T19:52:05.682",
     "shell.execute_reply": "2023-10-16T19:52:05.682"
    },
    "tags": []
   },
   "outputs": [],
   "source": [
    "# using Package\n",
    "using DecisionTree\n",
    "using CSV\n",
    "using DataFrames"
   ]
  },
  {
   "cell_type": "markdown",
   "id": "12c69851-5286-4bd7-a94d-bffa0efdba76",
   "metadata": {},
   "source": [
    "# Practice"
   ]
  },
  {
   "cell_type": "code",
   "execution_count": 3,
   "id": "98f66904-ac49-4221-a4d5-8bde3a2f4882",
   "metadata": {
    "execution": {
     "iopub.execute_input": "2023-10-16T19:52:06.256",
     "iopub.status.busy": "2023-10-16T19:52:05.683",
     "iopub.status.idle": "2023-10-16T19:52:10.425",
     "shell.execute_reply": "2023-10-16T19:52:10.424"
    },
    "tags": []
   },
   "outputs": [
    {
     "data": {
      "text/plain": [
       "(Any[5.1 3.5 1.4 0.2; 4.9 3.0 1.4 0.2; … ; 6.2 3.4 5.4 2.3; 5.9 3.0 5.1 1.8], Any[\"Iris-setosa\", \"Iris-setosa\", \"Iris-setosa\", \"Iris-setosa\", \"Iris-setosa\", \"Iris-setosa\", \"Iris-setosa\", \"Iris-setosa\", \"Iris-setosa\", \"Iris-setosa\"  …  \"Iris-virginica\", \"Iris-virginica\", \"Iris-virginica\", \"Iris-virginica\", \"Iris-virginica\", \"Iris-virginica\", \"Iris-virginica\", \"Iris-virginica\", \"Iris-virginica\", \"Iris-virginica\"])"
      ]
     },
     "execution_count": 3,
     "metadata": {},
     "output_type": "execute_result"
    }
   ],
   "source": [
    "# Load Dataset\n",
    "features, labels = load_data(\"iris\")    # also see \"adult\" and \"digits\" datasets"
   ]
  },
  {
   "cell_type": "code",
   "execution_count": 4,
   "id": "e844a481-fe21-4f33-b9c0-2b294c945e27",
   "metadata": {
    "execution": {
     "iopub.execute_input": "2023-10-16T19:52:10.425",
     "iopub.status.busy": "2023-10-16T19:52:10.425",
     "iopub.status.idle": "2023-10-16T19:52:12.407",
     "shell.execute_reply": "2023-10-16T19:52:12.407"
    },
    "tags": []
   },
   "outputs": [
    {
     "data": {
      "text/plain": [
       "150-element Vector{String}:\n",
       " \"Iris-setosa\"\n",
       " \"Iris-setosa\"\n",
       " \"Iris-setosa\"\n",
       " \"Iris-setosa\"\n",
       " \"Iris-setosa\"\n",
       " \"Iris-setosa\"\n",
       " \"Iris-setosa\"\n",
       " \"Iris-setosa\"\n",
       " \"Iris-setosa\"\n",
       " \"Iris-setosa\"\n",
       " \"Iris-setosa\"\n",
       " \"Iris-setosa\"\n",
       " \"Iris-setosa\"\n",
       " ⋮\n",
       " \"Iris-virginica\"\n",
       " \"Iris-virginica\"\n",
       " \"Iris-virginica\"\n",
       " \"Iris-virginica\"\n",
       " \"Iris-virginica\"\n",
       " \"Iris-virginica\"\n",
       " \"Iris-virginica\"\n",
       " \"Iris-virginica\"\n",
       " \"Iris-virginica\"\n",
       " \"Iris-virginica\"\n",
       " \"Iris-virginica\"\n",
       " \"Iris-virginica\""
      ]
     },
     "execution_count": 4,
     "metadata": {},
     "output_type": "execute_result"
    }
   ],
   "source": [
    "# Clean Dataset\n",
    "\n",
    "# the data loaded are of type Array{Any}\n",
    "# cast them to concrete types for better performance\n",
    "features = float.(features)\n",
    "labels   = string.(labels)"
   ]
  },
  {
   "cell_type": "code",
   "execution_count": 5,
   "id": "87219331-1a54-48f8-b8c3-28d68137841e",
   "metadata": {
    "execution": {
     "iopub.execute_input": "2023-10-16T19:52:12.407",
     "iopub.status.busy": "2023-10-16T19:52:12.407",
     "iopub.status.idle": "2023-10-16T19:52:14.108",
     "shell.execute_reply": "2023-10-16T19:52:14.107"
    },
    "tags": []
   },
   "outputs": [
    {
     "data": {
      "text/plain": [
       "DecisionTreeClassifier\n",
       "max_depth:                2\n",
       "min_samples_leaf:         1\n",
       "min_samples_split:        2\n",
       "min_purity_increase:      0.0\n",
       "pruning_purity_threshold: 1.0\n",
       "n_subfeatures:            0\n",
       "classes:                  [\"Iris-setosa\", \"Iris-versicolor\", \"Iris-virginica\"]\n",
       "root:                     Decision Tree\n",
       "Leaves: 3\n",
       "Depth:  2"
      ]
     },
     "execution_count": 5,
     "metadata": {},
     "output_type": "execute_result"
    }
   ],
   "source": [
    "# Modeling\n",
    "# Create model\n",
    "model = DecisionTreeClassifier(max_depth=2)\n",
    "# Train the model\n",
    "fit!(model, features, labels)"
   ]
  },
  {
   "cell_type": "code",
   "execution_count": 6,
   "id": "d40e559d-a541-4c9f-80df-235f6f748a97",
   "metadata": {
    "execution": {
     "iopub.execute_input": "2023-10-16T19:52:14.108",
     "iopub.status.busy": "2023-10-16T19:52:14.108",
     "iopub.status.idle": "2023-10-16T19:52:15.134",
     "shell.execute_reply": "2023-10-16T19:52:15.134"
    },
    "tags": []
   },
   "outputs": [
    {
     "name": "stdout",
     "output_type": "stream",
     "text": [
      "[0.0, 0.021739130434782608, 0.9782608695652174]\n",
      "[\"Iris-setosa\", \"Iris-versicolor\", \"Iris-virginica\"]\n",
      "\n",
      "Iris-virginica\n"
     ]
    }
   ],
   "source": [
    "# get the probability of each label\n",
    "println(predict_proba(model, [5.9,3.0,5.1,1.9]))\n",
    "println(get_classes(model)) # returns the ordering of the columns in predict_proba's output\n",
    "\n",
    "# apply learned model\n",
    "println(\"\\n\",predict(model, [5.9,3.0,5.1,1.9]))"
   ]
  },
  {
   "cell_type": "code",
   "execution_count": 7,
   "id": "19393e00-2252-4c4d-abab-59ce842355be",
   "metadata": {
    "execution": {
     "iopub.execute_input": "2023-10-16T19:52:15.134",
     "iopub.status.busy": "2023-10-16T19:52:15.134",
     "iopub.status.idle": "2023-10-16T19:52:15.444",
     "shell.execute_reply": "2023-10-16T19:52:15.444"
    },
    "tags": []
   },
   "outputs": [
    {
     "name": "stdout",
     "output_type": "stream",
     "text": [
      "Feature 4 < 0.8 ?\n",
      "├─ Iris-setosa : 50/50\n",
      "└─ Feature 4 < 1.75 ?\n",
      "    ├─ Iris-versicolor : 49/54\n",
      "    └─ Iris-virginica : 45/46\n"
     ]
    }
   ],
   "source": [
    "# pretty print of the tree, to a depth of 5 nodes (optional)\n",
    "print_tree(model, 5)"
   ]
  },
  {
   "cell_type": "code",
   "execution_count": 8,
   "id": "0b9a2089-b58a-4238-b4b3-65583c8b90b5",
   "metadata": {
    "execution": {
     "iopub.execute_input": "2023-10-16T19:52:15.445",
     "iopub.status.busy": "2023-10-16T19:52:15.445",
     "iopub.status.idle": "2023-10-16T19:52:22.529",
     "shell.execute_reply": "2023-10-16T19:52:22.529"
    },
    "tags": []
   },
   "outputs": [],
   "source": [
    "# run n-fold cross validation over 5 CV folds\n",
    "# See ScikitLearn.jl for installation instructions\n",
    "using ScikitLearn.CrossValidation: cross_val_score\n",
    "using ScikitLearn.CrossValidation: cross_val_predict"
   ]
  },
  {
   "cell_type": "code",
   "execution_count": 9,
   "id": "159e8090-2a75-40db-af49-993377db9873",
   "metadata": {
    "execution": {
     "iopub.execute_input": "2023-10-16T19:52:22.908",
     "iopub.status.busy": "2023-10-16T19:52:22.529",
     "iopub.status.idle": "2023-10-16T19:52:27.608",
     "shell.execute_reply": "2023-10-16T19:52:27.591"
    },
    "tags": []
   },
   "outputs": [
    {
     "data": {
      "text/plain": [
       "5-element Vector{Float64}:\n",
       " 0.9333333333333333\n",
       " 0.9666666666666667\n",
       " 0.9\n",
       " 0.8666666666666667\n",
       " 1.0"
      ]
     },
     "execution_count": 9,
     "metadata": {},
     "output_type": "execute_result"
    }
   ],
   "source": [
    "accuracy = cross_val_score(model, features, labels, cv=5)"
   ]
  },
  {
   "cell_type": "code",
   "execution_count": 10,
   "id": "f462f135-af9b-4950-bf33-d7bb4705dcc2",
   "metadata": {
    "execution": {
     "iopub.execute_input": "2023-10-16T19:52:27.626",
     "iopub.status.busy": "2023-10-16T19:52:27.626",
     "iopub.status.idle": "2023-10-16T19:52:28.654",
     "shell.execute_reply": "2023-10-16T19:52:28.654"
    },
    "tags": []
   },
   "outputs": [
    {
     "data": {
      "text/plain": [
       "150-element Vector{String}:\n",
       " \"Iris-setosa\"\n",
       " \"Iris-setosa\"\n",
       " \"Iris-setosa\"\n",
       " \"Iris-setosa\"\n",
       " \"Iris-setosa\"\n",
       " \"Iris-setosa\"\n",
       " \"Iris-setosa\"\n",
       " \"Iris-setosa\"\n",
       " \"Iris-setosa\"\n",
       " \"Iris-setosa\"\n",
       " \"Iris-setosa\"\n",
       " \"Iris-setosa\"\n",
       " \"Iris-setosa\"\n",
       " ⋮\n",
       " \"Iris-virginica\"\n",
       " \"Iris-virginica\"\n",
       " \"Iris-virginica\"\n",
       " \"Iris-virginica\"\n",
       " \"Iris-virginica\"\n",
       " \"Iris-virginica\"\n",
       " \"Iris-virginica\"\n",
       " \"Iris-virginica\"\n",
       " \"Iris-virginica\"\n",
       " \"Iris-virginica\"\n",
       " \"Iris-virginica\"\n",
       " \"Iris-virginica\""
      ]
     },
     "execution_count": 10,
     "metadata": {},
     "output_type": "execute_result"
    }
   ],
   "source": [
    "predicted = cross_val_predict(model, features, labels, cv=5)"
   ]
  },
  {
   "cell_type": "markdown",
   "id": "3725e471-0bb0-4948-811c-e340ef9a6c26",
   "metadata": {},
   "source": [
    "# Export to CSV"
   ]
  },
  {
   "cell_type": "code",
   "execution_count": 11,
   "id": "5fba088c-f40c-40de-8bd6-20bd65e75049",
   "metadata": {
    "execution": {
     "iopub.execute_input": "2023-10-16T19:52:28.654",
     "iopub.status.busy": "2023-10-16T19:52:28.654",
     "iopub.status.idle": "2023-10-16T19:52:28.911",
     "shell.execute_reply": "2023-10-16T19:52:28.910"
    },
    "tags": []
   },
   "outputs": [
    {
     "data": {
      "text/plain": [
       "150-element Vector{Float64}:\n",
       " 0.2\n",
       " 0.2\n",
       " 0.2\n",
       " 0.2\n",
       " 0.2\n",
       " 0.4\n",
       " 0.3\n",
       " 0.2\n",
       " 0.2\n",
       " 0.1\n",
       " 0.2\n",
       " 0.2\n",
       " 0.1\n",
       " ⋮\n",
       " 1.8\n",
       " 2.1\n",
       " 2.4\n",
       " 2.3\n",
       " 1.9\n",
       " 2.3\n",
       " 2.5\n",
       " 2.3\n",
       " 1.9\n",
       " 2.0\n",
       " 2.3\n",
       " 1.8"
      ]
     },
     "execution_count": 11,
     "metadata": {},
     "output_type": "execute_result"
    }
   ],
   "source": [
    "sepal_length=hcat(features)'[1,:]\n",
    "sepal_weight=hcat(features)'[2,:]\n",
    "petal_length=hcat(features)'[3,:]\n",
    "petal_weight=hcat(features)'[4,:]"
   ]
  },
  {
   "cell_type": "code",
   "execution_count": 12,
   "id": "4c642bbe-b22c-4d1f-9cc9-28228dadaa2e",
   "metadata": {
    "execution": {
     "iopub.execute_input": "2023-10-16T19:52:28.911",
     "iopub.status.busy": "2023-10-16T19:52:28.911",
     "iopub.status.idle": "2023-10-16T19:52:33.289",
     "shell.execute_reply": "2023-10-16T19:52:33.289"
    },
    "tags": []
   },
   "outputs": [
    {
     "data": {
      "text/html": [
       "<table class=\"data-frame\"><thead><tr><th></th><th>sepal_length</th><th>sepal_weight</th><th>petal_length</th><th>petal_weight</th><th>Class</th><th>Class_predict</th></tr><tr><th></th><th>Float64</th><th>Float64</th><th>Float64</th><th>Float64</th><th>String</th><th>String</th></tr></thead><tbody><p>150 rows × 6 columns</p><tr><th>1</th><td>5.1</td><td>3.5</td><td>1.4</td><td>0.2</td><td>Iris-setosa</td><td>Iris-setosa</td></tr><tr><th>2</th><td>4.9</td><td>3.0</td><td>1.4</td><td>0.2</td><td>Iris-setosa</td><td>Iris-setosa</td></tr><tr><th>3</th><td>4.7</td><td>3.2</td><td>1.3</td><td>0.2</td><td>Iris-setosa</td><td>Iris-setosa</td></tr><tr><th>4</th><td>4.6</td><td>3.1</td><td>1.5</td><td>0.2</td><td>Iris-setosa</td><td>Iris-setosa</td></tr><tr><th>5</th><td>5.0</td><td>3.6</td><td>1.4</td><td>0.2</td><td>Iris-setosa</td><td>Iris-setosa</td></tr><tr><th>6</th><td>5.4</td><td>3.9</td><td>1.7</td><td>0.4</td><td>Iris-setosa</td><td>Iris-setosa</td></tr><tr><th>7</th><td>4.6</td><td>3.4</td><td>1.4</td><td>0.3</td><td>Iris-setosa</td><td>Iris-setosa</td></tr><tr><th>8</th><td>5.0</td><td>3.4</td><td>1.5</td><td>0.2</td><td>Iris-setosa</td><td>Iris-setosa</td></tr><tr><th>9</th><td>4.4</td><td>2.9</td><td>1.4</td><td>0.2</td><td>Iris-setosa</td><td>Iris-setosa</td></tr><tr><th>10</th><td>4.9</td><td>3.1</td><td>1.5</td><td>0.1</td><td>Iris-setosa</td><td>Iris-setosa</td></tr><tr><th>11</th><td>5.4</td><td>3.7</td><td>1.5</td><td>0.2</td><td>Iris-setosa</td><td>Iris-setosa</td></tr><tr><th>12</th><td>4.8</td><td>3.4</td><td>1.6</td><td>0.2</td><td>Iris-setosa</td><td>Iris-setosa</td></tr><tr><th>13</th><td>4.8</td><td>3.0</td><td>1.4</td><td>0.1</td><td>Iris-setosa</td><td>Iris-setosa</td></tr><tr><th>14</th><td>4.3</td><td>3.0</td><td>1.1</td><td>0.1</td><td>Iris-setosa</td><td>Iris-setosa</td></tr><tr><th>15</th><td>5.8</td><td>4.0</td><td>1.2</td><td>0.2</td><td>Iris-setosa</td><td>Iris-setosa</td></tr><tr><th>16</th><td>5.7</td><td>4.4</td><td>1.5</td><td>0.4</td><td>Iris-setosa</td><td>Iris-setosa</td></tr><tr><th>17</th><td>5.4</td><td>3.9</td><td>1.3</td><td>0.4</td><td>Iris-setosa</td><td>Iris-setosa</td></tr><tr><th>18</th><td>5.1</td><td>3.5</td><td>1.4</td><td>0.3</td><td>Iris-setosa</td><td>Iris-setosa</td></tr><tr><th>19</th><td>5.7</td><td>3.8</td><td>1.7</td><td>0.3</td><td>Iris-setosa</td><td>Iris-setosa</td></tr><tr><th>20</th><td>5.1</td><td>3.8</td><td>1.5</td><td>0.3</td><td>Iris-setosa</td><td>Iris-setosa</td></tr><tr><th>21</th><td>5.4</td><td>3.4</td><td>1.7</td><td>0.2</td><td>Iris-setosa</td><td>Iris-setosa</td></tr><tr><th>22</th><td>5.1</td><td>3.7</td><td>1.5</td><td>0.4</td><td>Iris-setosa</td><td>Iris-setosa</td></tr><tr><th>23</th><td>4.6</td><td>3.6</td><td>1.0</td><td>0.2</td><td>Iris-setosa</td><td>Iris-setosa</td></tr><tr><th>24</th><td>5.1</td><td>3.3</td><td>1.7</td><td>0.5</td><td>Iris-setosa</td><td>Iris-setosa</td></tr><tr><th>25</th><td>4.8</td><td>3.4</td><td>1.9</td><td>0.2</td><td>Iris-setosa</td><td>Iris-setosa</td></tr><tr><th>26</th><td>5.0</td><td>3.0</td><td>1.6</td><td>0.2</td><td>Iris-setosa</td><td>Iris-setosa</td></tr><tr><th>27</th><td>5.0</td><td>3.4</td><td>1.6</td><td>0.4</td><td>Iris-setosa</td><td>Iris-setosa</td></tr><tr><th>28</th><td>5.2</td><td>3.5</td><td>1.5</td><td>0.2</td><td>Iris-setosa</td><td>Iris-setosa</td></tr><tr><th>29</th><td>5.2</td><td>3.4</td><td>1.4</td><td>0.2</td><td>Iris-setosa</td><td>Iris-setosa</td></tr><tr><th>30</th><td>4.7</td><td>3.2</td><td>1.6</td><td>0.2</td><td>Iris-setosa</td><td>Iris-setosa</td></tr><tr><th>&vellip;</th><td>&vellip;</td><td>&vellip;</td><td>&vellip;</td><td>&vellip;</td><td>&vellip;</td><td>&vellip;</td></tr></tbody></table>"
      ],
      "text/latex": [
       "\\begin{tabular}{r|cccccc}\n",
       "\t& sepal\\_length & sepal\\_weight & petal\\_length & petal\\_weight & Class & Class\\_predict\\\\\n",
       "\t\\hline\n",
       "\t& Float64 & Float64 & Float64 & Float64 & String & String\\\\\n",
       "\t\\hline\n",
       "\t1 & 5.1 & 3.5 & 1.4 & 0.2 & Iris-setosa & Iris-setosa \\\\\n",
       "\t2 & 4.9 & 3.0 & 1.4 & 0.2 & Iris-setosa & Iris-setosa \\\\\n",
       "\t3 & 4.7 & 3.2 & 1.3 & 0.2 & Iris-setosa & Iris-setosa \\\\\n",
       "\t4 & 4.6 & 3.1 & 1.5 & 0.2 & Iris-setosa & Iris-setosa \\\\\n",
       "\t5 & 5.0 & 3.6 & 1.4 & 0.2 & Iris-setosa & Iris-setosa \\\\\n",
       "\t6 & 5.4 & 3.9 & 1.7 & 0.4 & Iris-setosa & Iris-setosa \\\\\n",
       "\t7 & 4.6 & 3.4 & 1.4 & 0.3 & Iris-setosa & Iris-setosa \\\\\n",
       "\t8 & 5.0 & 3.4 & 1.5 & 0.2 & Iris-setosa & Iris-setosa \\\\\n",
       "\t9 & 4.4 & 2.9 & 1.4 & 0.2 & Iris-setosa & Iris-setosa \\\\\n",
       "\t10 & 4.9 & 3.1 & 1.5 & 0.1 & Iris-setosa & Iris-setosa \\\\\n",
       "\t11 & 5.4 & 3.7 & 1.5 & 0.2 & Iris-setosa & Iris-setosa \\\\\n",
       "\t12 & 4.8 & 3.4 & 1.6 & 0.2 & Iris-setosa & Iris-setosa \\\\\n",
       "\t13 & 4.8 & 3.0 & 1.4 & 0.1 & Iris-setosa & Iris-setosa \\\\\n",
       "\t14 & 4.3 & 3.0 & 1.1 & 0.1 & Iris-setosa & Iris-setosa \\\\\n",
       "\t15 & 5.8 & 4.0 & 1.2 & 0.2 & Iris-setosa & Iris-setosa \\\\\n",
       "\t16 & 5.7 & 4.4 & 1.5 & 0.4 & Iris-setosa & Iris-setosa \\\\\n",
       "\t17 & 5.4 & 3.9 & 1.3 & 0.4 & Iris-setosa & Iris-setosa \\\\\n",
       "\t18 & 5.1 & 3.5 & 1.4 & 0.3 & Iris-setosa & Iris-setosa \\\\\n",
       "\t19 & 5.7 & 3.8 & 1.7 & 0.3 & Iris-setosa & Iris-setosa \\\\\n",
       "\t20 & 5.1 & 3.8 & 1.5 & 0.3 & Iris-setosa & Iris-setosa \\\\\n",
       "\t21 & 5.4 & 3.4 & 1.7 & 0.2 & Iris-setosa & Iris-setosa \\\\\n",
       "\t22 & 5.1 & 3.7 & 1.5 & 0.4 & Iris-setosa & Iris-setosa \\\\\n",
       "\t23 & 4.6 & 3.6 & 1.0 & 0.2 & Iris-setosa & Iris-setosa \\\\\n",
       "\t24 & 5.1 & 3.3 & 1.7 & 0.5 & Iris-setosa & Iris-setosa \\\\\n",
       "\t25 & 4.8 & 3.4 & 1.9 & 0.2 & Iris-setosa & Iris-setosa \\\\\n",
       "\t26 & 5.0 & 3.0 & 1.6 & 0.2 & Iris-setosa & Iris-setosa \\\\\n",
       "\t27 & 5.0 & 3.4 & 1.6 & 0.4 & Iris-setosa & Iris-setosa \\\\\n",
       "\t28 & 5.2 & 3.5 & 1.5 & 0.2 & Iris-setosa & Iris-setosa \\\\\n",
       "\t29 & 5.2 & 3.4 & 1.4 & 0.2 & Iris-setosa & Iris-setosa \\\\\n",
       "\t30 & 4.7 & 3.2 & 1.6 & 0.2 & Iris-setosa & Iris-setosa \\\\\n",
       "\t$\\dots$ & $\\dots$ & $\\dots$ & $\\dots$ & $\\dots$ & $\\dots$ & $\\dots$ \\\\\n",
       "\\end{tabular}\n"
      ],
      "text/plain": [
       "\u001b[1m150×6 DataFrame\u001b[0m\n",
       "\u001b[1m Row \u001b[0m│\u001b[1m sepal_length \u001b[0m\u001b[1m sepal_weight \u001b[0m\u001b[1m petal_length \u001b[0m\u001b[1m petal_weight \u001b[0m\u001b[1m Class          \u001b[0m\u001b[1m\u001b[0m ⋯\n",
       "\u001b[1m     \u001b[0m│\u001b[90m Float64      \u001b[0m\u001b[90m Float64      \u001b[0m\u001b[90m Float64      \u001b[0m\u001b[90m Float64      \u001b[0m\u001b[90m String         \u001b[0m\u001b[90m\u001b[0m ⋯\n",
       "─────┼──────────────────────────────────────────────────────────────────────────\n",
       "   1 │          5.1           3.5           1.4           0.2  Iris-setosa     ⋯\n",
       "   2 │          4.9           3.0           1.4           0.2  Iris-setosa\n",
       "   3 │          4.7           3.2           1.3           0.2  Iris-setosa\n",
       "   4 │          4.6           3.1           1.5           0.2  Iris-setosa\n",
       "   5 │          5.0           3.6           1.4           0.2  Iris-setosa     ⋯\n",
       "   6 │          5.4           3.9           1.7           0.4  Iris-setosa\n",
       "   7 │          4.6           3.4           1.4           0.3  Iris-setosa\n",
       "   8 │          5.0           3.4           1.5           0.2  Iris-setosa\n",
       "   9 │          4.4           2.9           1.4           0.2  Iris-setosa     ⋯\n",
       "  10 │          4.9           3.1           1.5           0.1  Iris-setosa\n",
       "  11 │          5.4           3.7           1.5           0.2  Iris-setosa\n",
       "  ⋮  │      ⋮             ⋮             ⋮             ⋮              ⋮         ⋱\n",
       " 141 │          6.7           3.1           5.6           2.4  Iris-virginica\n",
       " 142 │          6.9           3.1           5.1           2.3  Iris-virginica  ⋯\n",
       " 143 │          5.8           2.7           5.1           1.9  Iris-virginica\n",
       " 144 │          6.8           3.2           5.9           2.3  Iris-virginica\n",
       " 145 │          6.7           3.3           5.7           2.5  Iris-virginica\n",
       " 146 │          6.7           3.0           5.2           2.3  Iris-virginica  ⋯\n",
       " 147 │          6.3           2.5           5.0           1.9  Iris-virginica\n",
       " 148 │          6.5           3.0           5.2           2.0  Iris-virginica\n",
       " 149 │          6.2           3.4           5.4           2.3  Iris-virginica\n",
       " 150 │          5.9           3.0           5.1           1.8  Iris-virginica  ⋯\n",
       "\u001b[36m                                                   1 column and 129 rows omitted\u001b[0m"
      ]
     },
     "execution_count": 12,
     "metadata": {},
     "output_type": "execute_result"
    }
   ],
   "source": [
    "using CSV\n",
    "using DataFrames\n",
    "\n",
    "df = DataFrame(sepal_length = sepal_length, \n",
    "               sepal_weight = sepal_weight,\n",
    "               petal_length = petal_length,\n",
    "               petal_weight = petal_weight,\n",
    "               Class         = labels,\n",
    "               Class_predict = predicted\n",
    "               )"
   ]
  },
  {
   "cell_type": "code",
   "execution_count": 13,
   "id": "ca521bad-b2ac-461c-ae13-37b03b69482a",
   "metadata": {
    "execution": {
     "iopub.execute_input": "2023-10-16T19:52:33.289",
     "iopub.status.busy": "2023-10-16T19:52:33.289",
     "iopub.status.idle": "2023-10-16T19:52:34.657",
     "shell.execute_reply": "2023-10-16T19:52:34.656"
    },
    "tags": []
   },
   "outputs": [
    {
     "data": {
      "text/plain": [
       "\"EX_DT-export_df.csv\""
      ]
     },
     "execution_count": 13,
     "metadata": {},
     "output_type": "execute_result"
    }
   ],
   "source": [
    "CSV.write(\"EX_DT-export_df.csv\", df) "
   ]
  },
  {
   "cell_type": "code",
   "execution_count": null,
   "id": "709d369e-e8ad-4eb8-9c1f-ddcc32b4e298",
   "metadata": {},
   "outputs": [],
   "source": []
  }
 ],
 "metadata": {
  "kernelspec": {
   "display_name": "Julia 1.9.2",
   "language": "julia",
   "name": "julia-1.9"
  },
  "language_info": {
   "file_extension": ".jl",
   "mimetype": "application/julia",
   "name": "julia",
   "version": "1.9.2"
  },
  "toc-autonumbering": false,
  "toc-showmarkdowntxt": false
 },
 "nbformat": 4,
 "nbformat_minor": 5
}
