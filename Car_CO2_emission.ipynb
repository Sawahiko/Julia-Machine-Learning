{
 "cells": [
  {
   "cell_type": "markdown",
   "id": "1a23ef1f-bb0d-4f09-b85b-4a89126e7a2e",
   "metadata": {
    "tags": []
   },
   "source": [
    "# Use Package"
   ]
  },
  {
   "cell_type": "code",
   "execution_count": 31,
   "id": "9fb2137a-319a-4615-9aec-475fd7421533",
   "metadata": {
    "execution": {
     "iopub.execute_input": "2023-10-16T20:37:01.468",
     "iopub.status.busy": "2023-10-16T20:37:01.468",
     "iopub.status.idle": "2023-10-16T20:37:01.481",
     "shell.execute_reply": "2023-10-16T20:37:01.481"
    },
    "tags": []
   },
   "outputs": [],
   "source": [
    "using CSV\n",
    "using DataFrames\n",
    "using PyPlot\n",
    "using Metrics\n",
    "using Random"
   ]
  },
  {
   "cell_type": "code",
   "execution_count": 32,
   "id": "65b7217c-3631-4dcd-99e6-a5fb228766e9",
   "metadata": {
    "execution": {
     "iopub.execute_input": "2023-10-16T20:37:01.668",
     "iopub.status.busy": "2023-10-16T20:37:01.668",
     "iopub.status.idle": "2023-10-16T20:37:01.679",
     "shell.execute_reply": "2023-10-16T20:37:01.679"
    },
    "tags": []
   },
   "outputs": [],
   "source": [
    "using ScikitLearn, Random, Statistics\n",
    "using MLJ\n",
    "using DecisionTree"
   ]
  },
  {
   "cell_type": "markdown",
   "id": "57bc214f-7110-4c70-a82f-aee3c86354bc",
   "metadata": {
    "jp-MarkdownHeadingCollapsed": true,
    "tags": []
   },
   "source": [
    "# Import Data"
   ]
  },
  {
   "cell_type": "code",
   "execution_count": 33,
   "id": "026124ff-6a05-46ac-b7a9-c9ab78df484c",
   "metadata": {
    "execution": {
     "iopub.execute_input": "2023-10-16T20:37:04.509",
     "iopub.status.busy": "2023-10-16T20:37:04.509",
     "iopub.status.idle": "2023-10-16T20:37:07.917",
     "shell.execute_reply": "2023-10-16T20:37:07.917"
    },
    "tags": []
   },
   "outputs": [
    {
     "data": {
      "text/html": [
       "<table class=\"data-frame\"><thead><tr><th></th><th>Make</th><th>Model</th><th>Vehicle Class</th><th>Engine Size(L)</th><th>Cylinders</th></tr><tr><th></th><th>String15</th><th>String</th><th>String31</th><th>Float64</th><th>Int64</th></tr></thead><tbody><p>7,385 rows × 12 columns (omitted printing of 7 columns)</p><tr><th>1</th><td>ACURA</td><td>ILX</td><td>COMPACT</td><td>2.0</td><td>4</td></tr><tr><th>2</th><td>ACURA</td><td>ILX</td><td>COMPACT</td><td>2.4</td><td>4</td></tr><tr><th>3</th><td>ACURA</td><td>ILX HYBRID</td><td>COMPACT</td><td>1.5</td><td>4</td></tr><tr><th>4</th><td>ACURA</td><td>MDX 4WD</td><td>SUV - SMALL</td><td>3.5</td><td>6</td></tr><tr><th>5</th><td>ACURA</td><td>RDX AWD</td><td>SUV - SMALL</td><td>3.5</td><td>6</td></tr><tr><th>6</th><td>ACURA</td><td>RLX</td><td>MID-SIZE</td><td>3.5</td><td>6</td></tr><tr><th>7</th><td>ACURA</td><td>TL</td><td>MID-SIZE</td><td>3.5</td><td>6</td></tr><tr><th>8</th><td>ACURA</td><td>TL AWD</td><td>MID-SIZE</td><td>3.7</td><td>6</td></tr><tr><th>9</th><td>ACURA</td><td>TL AWD</td><td>MID-SIZE</td><td>3.7</td><td>6</td></tr><tr><th>10</th><td>ACURA</td><td>TSX</td><td>COMPACT</td><td>2.4</td><td>4</td></tr><tr><th>11</th><td>ACURA</td><td>TSX</td><td>COMPACT</td><td>2.4</td><td>4</td></tr><tr><th>12</th><td>ACURA</td><td>TSX</td><td>COMPACT</td><td>3.5</td><td>6</td></tr><tr><th>13</th><td>ALFA ROMEO</td><td>4C</td><td>TWO-SEATER</td><td>1.8</td><td>4</td></tr><tr><th>14</th><td>ASTON MARTIN</td><td>DB9</td><td>MINICOMPACT</td><td>5.9</td><td>12</td></tr><tr><th>15</th><td>ASTON MARTIN</td><td>RAPIDE</td><td>SUBCOMPACT</td><td>5.9</td><td>12</td></tr><tr><th>16</th><td>ASTON MARTIN</td><td>V8 VANTAGE</td><td>TWO-SEATER</td><td>4.7</td><td>8</td></tr><tr><th>17</th><td>ASTON MARTIN</td><td>V8 VANTAGE</td><td>TWO-SEATER</td><td>4.7</td><td>8</td></tr><tr><th>18</th><td>ASTON MARTIN</td><td>V8 VANTAGE S</td><td>TWO-SEATER</td><td>4.7</td><td>8</td></tr><tr><th>19</th><td>ASTON MARTIN</td><td>V8 VANTAGE S</td><td>TWO-SEATER</td><td>4.7</td><td>8</td></tr><tr><th>20</th><td>ASTON MARTIN</td><td>VANQUISH</td><td>MINICOMPACT</td><td>5.9</td><td>12</td></tr><tr><th>21</th><td>AUDI</td><td>A4</td><td>COMPACT</td><td>2.0</td><td>4</td></tr><tr><th>22</th><td>AUDI</td><td>A4 QUATTRO</td><td>COMPACT</td><td>2.0</td><td>4</td></tr><tr><th>23</th><td>AUDI</td><td>A4 QUATTRO</td><td>COMPACT</td><td>2.0</td><td>4</td></tr><tr><th>24</th><td>AUDI</td><td>A5 CABRIOLET QUATTRO</td><td>SUBCOMPACT</td><td>2.0</td><td>4</td></tr><tr><th>25</th><td>AUDI</td><td>A5 QUATTRO</td><td>SUBCOMPACT</td><td>2.0</td><td>4</td></tr><tr><th>26</th><td>AUDI</td><td>A5 QUATTRO</td><td>SUBCOMPACT</td><td>2.0</td><td>4</td></tr><tr><th>27</th><td>AUDI</td><td>A6 QUATTRO</td><td>MID-SIZE</td><td>2.0</td><td>4</td></tr><tr><th>28</th><td>AUDI</td><td>A6 QUATTRO</td><td>MID-SIZE</td><td>3.0</td><td>6</td></tr><tr><th>29</th><td>AUDI</td><td>A6 QUATTRO TDI (modified)</td><td>MID-SIZE</td><td>3.0</td><td>6</td></tr><tr><th>30</th><td>AUDI</td><td>A7 QUATTRO</td><td>MID-SIZE</td><td>3.0</td><td>6</td></tr><tr><th>&vellip;</th><td>&vellip;</td><td>&vellip;</td><td>&vellip;</td><td>&vellip;</td><td>&vellip;</td></tr></tbody></table>"
      ],
      "text/latex": [
       "\\begin{tabular}{r|cccccc}\n",
       "\t& Make & Model & Vehicle Class & Engine Size(L) & Cylinders & \\\\\n",
       "\t\\hline\n",
       "\t& String15 & String & String31 & Float64 & Int64 & \\\\\n",
       "\t\\hline\n",
       "\t1 & ACURA & ILX & COMPACT & 2.0 & 4 & $\\dots$ \\\\\n",
       "\t2 & ACURA & ILX & COMPACT & 2.4 & 4 & $\\dots$ \\\\\n",
       "\t3 & ACURA & ILX HYBRID & COMPACT & 1.5 & 4 & $\\dots$ \\\\\n",
       "\t4 & ACURA & MDX 4WD & SUV - SMALL & 3.5 & 6 & $\\dots$ \\\\\n",
       "\t5 & ACURA & RDX AWD & SUV - SMALL & 3.5 & 6 & $\\dots$ \\\\\n",
       "\t6 & ACURA & RLX & MID-SIZE & 3.5 & 6 & $\\dots$ \\\\\n",
       "\t7 & ACURA & TL & MID-SIZE & 3.5 & 6 & $\\dots$ \\\\\n",
       "\t8 & ACURA & TL AWD & MID-SIZE & 3.7 & 6 & $\\dots$ \\\\\n",
       "\t9 & ACURA & TL AWD & MID-SIZE & 3.7 & 6 & $\\dots$ \\\\\n",
       "\t10 & ACURA & TSX & COMPACT & 2.4 & 4 & $\\dots$ \\\\\n",
       "\t11 & ACURA & TSX & COMPACT & 2.4 & 4 & $\\dots$ \\\\\n",
       "\t12 & ACURA & TSX & COMPACT & 3.5 & 6 & $\\dots$ \\\\\n",
       "\t13 & ALFA ROMEO & 4C & TWO-SEATER & 1.8 & 4 & $\\dots$ \\\\\n",
       "\t14 & ASTON MARTIN & DB9 & MINICOMPACT & 5.9 & 12 & $\\dots$ \\\\\n",
       "\t15 & ASTON MARTIN & RAPIDE & SUBCOMPACT & 5.9 & 12 & $\\dots$ \\\\\n",
       "\t16 & ASTON MARTIN & V8 VANTAGE & TWO-SEATER & 4.7 & 8 & $\\dots$ \\\\\n",
       "\t17 & ASTON MARTIN & V8 VANTAGE & TWO-SEATER & 4.7 & 8 & $\\dots$ \\\\\n",
       "\t18 & ASTON MARTIN & V8 VANTAGE S & TWO-SEATER & 4.7 & 8 & $\\dots$ \\\\\n",
       "\t19 & ASTON MARTIN & V8 VANTAGE S & TWO-SEATER & 4.7 & 8 & $\\dots$ \\\\\n",
       "\t20 & ASTON MARTIN & VANQUISH & MINICOMPACT & 5.9 & 12 & $\\dots$ \\\\\n",
       "\t21 & AUDI & A4 & COMPACT & 2.0 & 4 & $\\dots$ \\\\\n",
       "\t22 & AUDI & A4 QUATTRO & COMPACT & 2.0 & 4 & $\\dots$ \\\\\n",
       "\t23 & AUDI & A4 QUATTRO & COMPACT & 2.0 & 4 & $\\dots$ \\\\\n",
       "\t24 & AUDI & A5 CABRIOLET QUATTRO & SUBCOMPACT & 2.0 & 4 & $\\dots$ \\\\\n",
       "\t25 & AUDI & A5 QUATTRO & SUBCOMPACT & 2.0 & 4 & $\\dots$ \\\\\n",
       "\t26 & AUDI & A5 QUATTRO & SUBCOMPACT & 2.0 & 4 & $\\dots$ \\\\\n",
       "\t27 & AUDI & A6 QUATTRO & MID-SIZE & 2.0 & 4 & $\\dots$ \\\\\n",
       "\t28 & AUDI & A6 QUATTRO & MID-SIZE & 3.0 & 6 & $\\dots$ \\\\\n",
       "\t29 & AUDI & A6 QUATTRO TDI (modified) & MID-SIZE & 3.0 & 6 & $\\dots$ \\\\\n",
       "\t30 & AUDI & A7 QUATTRO & MID-SIZE & 3.0 & 6 & $\\dots$ \\\\\n",
       "\t$\\dots$ & $\\dots$ & $\\dots$ & $\\dots$ & $\\dots$ & $\\dots$ &  \\\\\n",
       "\\end{tabular}\n"
      ],
      "text/plain": [
       "7385×12 DataFrame. Omitted printing of 8 columns\n",
       "│ Row  │ Make     │ Model         │ Vehicle Class         │ Engine Size(L) │\n",
       "│      │ \u001b[90mString15\u001b[39m │ \u001b[90mString\u001b[39m        │ \u001b[90mString31\u001b[39m              │ \u001b[90mFloat64\u001b[39m        │\n",
       "├──────┼──────────┼───────────────┼───────────────────────┼────────────────┤\n",
       "│ 1    │ ACURA    │ ILX           │ COMPACT               │ 2.0            │\n",
       "│ 2    │ ACURA    │ ILX           │ COMPACT               │ 2.4            │\n",
       "│ 3    │ ACURA    │ ILX HYBRID    │ COMPACT               │ 1.5            │\n",
       "│ 4    │ ACURA    │ MDX 4WD       │ SUV - SMALL           │ 3.5            │\n",
       "│ 5    │ ACURA    │ RDX AWD       │ SUV - SMALL           │ 3.5            │\n",
       "│ 6    │ ACURA    │ RLX           │ MID-SIZE              │ 3.5            │\n",
       "│ 7    │ ACURA    │ TL            │ MID-SIZE              │ 3.5            │\n",
       "│ 8    │ ACURA    │ TL AWD        │ MID-SIZE              │ 3.7            │\n",
       "│ 9    │ ACURA    │ TL AWD        │ MID-SIZE              │ 3.7            │\n",
       "│ 10   │ ACURA    │ TSX           │ COMPACT               │ 2.4            │\n",
       "⋮\n",
       "│ 7375 │ VOLVO    │ S60 T6 AWD    │ COMPACT               │ 2.0            │\n",
       "│ 7376 │ VOLVO    │ S90 T6 AWD    │ MID-SIZE              │ 2.0            │\n",
       "│ 7377 │ VOLVO    │ V60 T5        │ STATION WAGON - SMALL │ 2.0            │\n",
       "│ 7378 │ VOLVO    │ V60 T6 AWD    │ STATION WAGON - SMALL │ 2.0            │\n",
       "│ 7379 │ VOLVO    │ V60 CC T5 AWD │ STATION WAGON - SMALL │ 2.0            │\n",
       "│ 7380 │ VOLVO    │ XC40 T4 AWD   │ SUV - SMALL           │ 2.0            │\n",
       "│ 7381 │ VOLVO    │ XC40 T5 AWD   │ SUV - SMALL           │ 2.0            │\n",
       "│ 7382 │ VOLVO    │ XC60 T5 AWD   │ SUV - SMALL           │ 2.0            │\n",
       "│ 7383 │ VOLVO    │ XC60 T6 AWD   │ SUV - SMALL           │ 2.0            │\n",
       "│ 7384 │ VOLVO    │ XC90 T5 AWD   │ SUV - STANDARD        │ 2.0            │\n",
       "│ 7385 │ VOLVO    │ XC90 T6 AWD   │ SUV - STANDARD        │ 2.0            │"
      ]
     },
     "execution_count": 33,
     "metadata": {},
     "output_type": "execute_result"
    }
   ],
   "source": [
    "imported_df = CSV.read(\"Data\\\\CO2 Emissions_Canada.csv\", DataFrame)"
   ]
  },
  {
   "cell_type": "markdown",
   "id": "388dde08-2f0e-499d-ae23-a11faca231a3",
   "metadata": {
    "tags": []
   },
   "source": [
    "# Data Cleaning"
   ]
  },
  {
   "cell_type": "code",
   "execution_count": 47,
   "id": "e1bfdd7d-c3fb-4581-8bc7-a11ab9bae5a9",
   "metadata": {
    "execution": {
     "iopub.execute_input": "2023-10-16T20:47:44.938",
     "iopub.status.busy": "2023-10-16T20:47:44.937",
     "iopub.status.idle": "2023-10-16T20:47:44.950",
     "shell.execute_reply": "2023-10-16T20:47:44.950"
    },
    "tags": []
   },
   "outputs": [
    {
     "data": {
      "text/html": [
       "<table class=\"data-frame\"><thead><tr><th></th><th>Engine Size(L)</th><th>Cylinders</th><th>Fuel Consumption City (L/100 km)</th><th>Fuel Consumption Hwy (L/100 km)</th></tr><tr><th></th><th>Float64</th><th>Int64</th><th>Float64</th><th>Float64</th></tr></thead><tbody><p>7,385 rows × 7 columns (omitted printing of 3 columns)</p><tr><th>1</th><td>2.0</td><td>4</td><td>9.9</td><td>6.7</td></tr><tr><th>2</th><td>2.4</td><td>4</td><td>11.2</td><td>7.7</td></tr><tr><th>3</th><td>1.5</td><td>4</td><td>6.0</td><td>5.8</td></tr><tr><th>4</th><td>3.5</td><td>6</td><td>12.7</td><td>9.1</td></tr><tr><th>5</th><td>3.5</td><td>6</td><td>12.1</td><td>8.7</td></tr><tr><th>6</th><td>3.5</td><td>6</td><td>11.9</td><td>7.7</td></tr><tr><th>7</th><td>3.5</td><td>6</td><td>11.8</td><td>8.1</td></tr><tr><th>8</th><td>3.7</td><td>6</td><td>12.8</td><td>9.0</td></tr><tr><th>9</th><td>3.7</td><td>6</td><td>13.4</td><td>9.5</td></tr><tr><th>10</th><td>2.4</td><td>4</td><td>10.6</td><td>7.5</td></tr><tr><th>11</th><td>2.4</td><td>4</td><td>11.2</td><td>8.1</td></tr><tr><th>12</th><td>3.5</td><td>6</td><td>12.1</td><td>8.3</td></tr><tr><th>13</th><td>1.8</td><td>4</td><td>9.7</td><td>6.9</td></tr><tr><th>14</th><td>5.9</td><td>12</td><td>18.0</td><td>12.6</td></tr><tr><th>15</th><td>5.9</td><td>12</td><td>18.0</td><td>12.6</td></tr><tr><th>16</th><td>4.7</td><td>8</td><td>17.4</td><td>11.3</td></tr><tr><th>17</th><td>4.7</td><td>8</td><td>18.1</td><td>12.2</td></tr><tr><th>18</th><td>4.7</td><td>8</td><td>17.4</td><td>11.3</td></tr><tr><th>19</th><td>4.7</td><td>8</td><td>18.1</td><td>12.2</td></tr><tr><th>20</th><td>5.9</td><td>12</td><td>18.0</td><td>12.6</td></tr><tr><th>21</th><td>2.0</td><td>4</td><td>9.9</td><td>7.4</td></tr><tr><th>22</th><td>2.0</td><td>4</td><td>11.5</td><td>8.1</td></tr><tr><th>23</th><td>2.0</td><td>4</td><td>10.8</td><td>7.5</td></tr><tr><th>24</th><td>2.0</td><td>4</td><td>11.5</td><td>8.1</td></tr><tr><th>25</th><td>2.0</td><td>4</td><td>11.5</td><td>8.1</td></tr><tr><th>26</th><td>2.0</td><td>4</td><td>10.8</td><td>7.5</td></tr><tr><th>27</th><td>2.0</td><td>4</td><td>12.0</td><td>8.1</td></tr><tr><th>28</th><td>3.0</td><td>6</td><td>12.8</td><td>8.6</td></tr><tr><th>29</th><td>3.0</td><td>6</td><td>9.8</td><td>6.2</td></tr><tr><th>30</th><td>3.0</td><td>6</td><td>13.3</td><td>8.5</td></tr><tr><th>&vellip;</th><td>&vellip;</td><td>&vellip;</td><td>&vellip;</td><td>&vellip;</td></tr></tbody></table>"
      ],
      "text/latex": [
       "\\begin{tabular}{r|ccccc}\n",
       "\t& Engine Size(L) & Cylinders & Fuel Consumption City (L/100 km) & Fuel Consumption Hwy (L/100 km) & \\\\\n",
       "\t\\hline\n",
       "\t& Float64 & Int64 & Float64 & Float64 & \\\\\n",
       "\t\\hline\n",
       "\t1 & 2.0 & 4 & 9.9 & 6.7 & $\\dots$ \\\\\n",
       "\t2 & 2.4 & 4 & 11.2 & 7.7 & $\\dots$ \\\\\n",
       "\t3 & 1.5 & 4 & 6.0 & 5.8 & $\\dots$ \\\\\n",
       "\t4 & 3.5 & 6 & 12.7 & 9.1 & $\\dots$ \\\\\n",
       "\t5 & 3.5 & 6 & 12.1 & 8.7 & $\\dots$ \\\\\n",
       "\t6 & 3.5 & 6 & 11.9 & 7.7 & $\\dots$ \\\\\n",
       "\t7 & 3.5 & 6 & 11.8 & 8.1 & $\\dots$ \\\\\n",
       "\t8 & 3.7 & 6 & 12.8 & 9.0 & $\\dots$ \\\\\n",
       "\t9 & 3.7 & 6 & 13.4 & 9.5 & $\\dots$ \\\\\n",
       "\t10 & 2.4 & 4 & 10.6 & 7.5 & $\\dots$ \\\\\n",
       "\t11 & 2.4 & 4 & 11.2 & 8.1 & $\\dots$ \\\\\n",
       "\t12 & 3.5 & 6 & 12.1 & 8.3 & $\\dots$ \\\\\n",
       "\t13 & 1.8 & 4 & 9.7 & 6.9 & $\\dots$ \\\\\n",
       "\t14 & 5.9 & 12 & 18.0 & 12.6 & $\\dots$ \\\\\n",
       "\t15 & 5.9 & 12 & 18.0 & 12.6 & $\\dots$ \\\\\n",
       "\t16 & 4.7 & 8 & 17.4 & 11.3 & $\\dots$ \\\\\n",
       "\t17 & 4.7 & 8 & 18.1 & 12.2 & $\\dots$ \\\\\n",
       "\t18 & 4.7 & 8 & 17.4 & 11.3 & $\\dots$ \\\\\n",
       "\t19 & 4.7 & 8 & 18.1 & 12.2 & $\\dots$ \\\\\n",
       "\t20 & 5.9 & 12 & 18.0 & 12.6 & $\\dots$ \\\\\n",
       "\t21 & 2.0 & 4 & 9.9 & 7.4 & $\\dots$ \\\\\n",
       "\t22 & 2.0 & 4 & 11.5 & 8.1 & $\\dots$ \\\\\n",
       "\t23 & 2.0 & 4 & 10.8 & 7.5 & $\\dots$ \\\\\n",
       "\t24 & 2.0 & 4 & 11.5 & 8.1 & $\\dots$ \\\\\n",
       "\t25 & 2.0 & 4 & 11.5 & 8.1 & $\\dots$ \\\\\n",
       "\t26 & 2.0 & 4 & 10.8 & 7.5 & $\\dots$ \\\\\n",
       "\t27 & 2.0 & 4 & 12.0 & 8.1 & $\\dots$ \\\\\n",
       "\t28 & 3.0 & 6 & 12.8 & 8.6 & $\\dots$ \\\\\n",
       "\t29 & 3.0 & 6 & 9.8 & 6.2 & $\\dots$ \\\\\n",
       "\t30 & 3.0 & 6 & 13.3 & 8.5 & $\\dots$ \\\\\n",
       "\t$\\dots$ & $\\dots$ & $\\dots$ & $\\dots$ & $\\dots$ &  \\\\\n",
       "\\end{tabular}\n"
      ],
      "text/plain": [
       "7385×7 DataFrame. Omitted printing of 4 columns\n",
       "│ Row  │ Engine Size(L) │ Cylinders │ Fuel Consumption City (L/100 km) │\n",
       "│      │ \u001b[90mFloat64\u001b[39m        │ \u001b[90mInt64\u001b[39m     │ \u001b[90mFloat64\u001b[39m                          │\n",
       "├──────┼────────────────┼───────────┼──────────────────────────────────┤\n",
       "│ 1    │ 2.0            │ 4         │ 9.9                              │\n",
       "│ 2    │ 2.4            │ 4         │ 11.2                             │\n",
       "│ 3    │ 1.5            │ 4         │ 6.0                              │\n",
       "│ 4    │ 3.5            │ 6         │ 12.7                             │\n",
       "│ 5    │ 3.5            │ 6         │ 12.1                             │\n",
       "│ 6    │ 3.5            │ 6         │ 11.9                             │\n",
       "│ 7    │ 3.5            │ 6         │ 11.8                             │\n",
       "│ 8    │ 3.7            │ 6         │ 12.8                             │\n",
       "│ 9    │ 3.7            │ 6         │ 13.4                             │\n",
       "│ 10   │ 2.4            │ 4         │ 10.6                             │\n",
       "⋮\n",
       "│ 7375 │ 2.0            │ 4         │ 11.0                             │\n",
       "│ 7376 │ 2.0            │ 4         │ 11.3                             │\n",
       "│ 7377 │ 2.0            │ 4         │ 10.5                             │\n",
       "│ 7378 │ 2.0            │ 4         │ 11.0                             │\n",
       "│ 7379 │ 2.0            │ 4         │ 10.8                             │\n",
       "│ 7380 │ 2.0            │ 4         │ 10.2                             │\n",
       "│ 7381 │ 2.0            │ 4         │ 10.7                             │\n",
       "│ 7382 │ 2.0            │ 4         │ 11.2                             │\n",
       "│ 7383 │ 2.0            │ 4         │ 11.7                             │\n",
       "│ 7384 │ 2.0            │ 4         │ 11.2                             │\n",
       "│ 7385 │ 2.0            │ 4         │ 12.2                             │"
      ]
     },
     "execution_count": 47,
     "metadata": {},
     "output_type": "execute_result"
    }
   ],
   "source": [
    "main_df = dropmissing(imported_df)\n",
    "main_df = main_df[:,Not([\"Make\", \"Model\", \"Vehicle Class\", \"Transmission\", \"Fuel Type\"])]"
   ]
  },
  {
   "cell_type": "markdown",
   "id": "7c23f1e0-6e04-4d69-b64a-70a9e33c6b6d",
   "metadata": {
    "tags": []
   },
   "source": [
    "# Train-Test"
   ]
  },
  {
   "cell_type": "code",
   "execution_count": 48,
   "id": "80ba3d80-1529-4d05-8082-81a77570d986",
   "metadata": {
    "execution": {
     "iopub.execute_input": "2023-10-16T20:47:49.186",
     "iopub.status.busy": "2023-10-16T20:47:49.186",
     "iopub.status.idle": "2023-10-16T20:47:49.339",
     "shell.execute_reply": "2023-10-16T20:47:49.339"
    },
    "tags": []
   },
   "outputs": [
    {
     "data": {
      "text/plain": [
       "(5908×6 DataFrame. Omitted printing of 3 columns\n",
       "│ Row  │ Engine Size(L) │ Cylinders │ Fuel Consumption City (L/100 km) │\n",
       "│      │ \u001b[90mFloat64\u001b[39m        │ \u001b[90mInt64\u001b[39m     │ \u001b[90mFloat64\u001b[39m                          │\n",
       "├──────┼────────────────┼───────────┼──────────────────────────────────┤\n",
       "│ 1    │ 3.4            │ 6         │ 12.9                             │\n",
       "│ 2    │ 3.5            │ 6         │ 13.7                             │\n",
       "│ 3    │ 2.0            │ 4         │ 10.9                             │\n",
       "│ 4    │ 2.0            │ 4         │ 11.2                             │\n",
       "│ 5    │ 3.6            │ 6         │ 12.3                             │\n",
       "│ 6    │ 3.7            │ 6         │ 13.6                             │\n",
       "│ 7    │ 3.0            │ 6         │ 12.7                             │\n",
       "│ 8    │ 2.5            │ 4         │ 11.9                             │\n",
       "│ 9    │ 2.0            │ 4         │ 11.3                             │\n",
       "│ 10   │ 5.0            │ 8         │ 16.1                             │\n",
       "⋮\n",
       "│ 5898 │ 1.6            │ 4         │ 7.2                              │\n",
       "│ 5899 │ 3.5            │ 6         │ 12.4                             │\n",
       "│ 5900 │ 2.0            │ 4         │ 11.0                             │\n",
       "│ 5901 │ 2.0            │ 4         │ 7.8                              │\n",
       "│ 5902 │ 1.5            │ 4         │ 9.6                              │\n",
       "│ 5903 │ 5.3            │ 8         │ 15.9                             │\n",
       "│ 5904 │ 2.0            │ 4         │ 10.5                             │\n",
       "│ 5905 │ 5.5            │ 8         │ 15.7                             │\n",
       "│ 5906 │ 3.5            │ 6         │ 10.9                             │\n",
       "│ 5907 │ 3.0            │ 6         │ 10.9                             │\n",
       "│ 5908 │ 2.0            │ 4         │ 10.9                             │, 1477×6 DataFrame. Omitted printing of 3 columns\n",
       "│ Row  │ Engine Size(L) │ Cylinders │ Fuel Consumption City (L/100 km) │\n",
       "│      │ \u001b[90mFloat64\u001b[39m        │ \u001b[90mInt64\u001b[39m     │ \u001b[90mFloat64\u001b[39m                          │\n",
       "├──────┼────────────────┼───────────┼──────────────────────────────────┤\n",
       "│ 1    │ 3.6            │ 6         │ 13.7                             │\n",
       "│ 2    │ 3.5            │ 6         │ 11.0                             │\n",
       "│ 3    │ 3.6            │ 6         │ 13.7                             │\n",
       "│ 4    │ 3.5            │ 6         │ 12.5                             │\n",
       "│ 5    │ 2.0            │ 4         │ 10.4                             │\n",
       "│ 6    │ 2.5            │ 4         │ 9.2                              │\n",
       "│ 7    │ 2.0            │ 4         │ 8.9                              │\n",
       "│ 8    │ 3.0            │ 6         │ 12.1                             │\n",
       "│ 9    │ 5.7            │ 8         │ 16.2                             │\n",
       "│ 10   │ 1.6            │ 4         │ 9.0                              │\n",
       "⋮\n",
       "│ 1467 │ 6.2            │ 8         │ 19.7                             │\n",
       "│ 1468 │ 5.5            │ 8         │ 15.1                             │\n",
       "│ 1469 │ 2.5            │ 4         │ 10.8                             │\n",
       "│ 1470 │ 1.5            │ 3         │ 10.2                             │\n",
       "│ 1471 │ 3.6            │ 6         │ 14.6                             │\n",
       "│ 1472 │ 2.3            │ 4         │ 11.2                             │\n",
       "│ 1473 │ 1.8            │ 4         │ 8.8                              │\n",
       "│ 1474 │ 3.7            │ 6         │ 13.1                             │\n",
       "│ 1475 │ 4.3            │ 6         │ 20.0                             │\n",
       "│ 1476 │ 2.0            │ 4         │ 8.4                              │\n",
       "│ 1477 │ 4.7            │ 8         │ 14.4                             │, [255, 274, 224, 235, 246, 278, 272, 247, 233, 339  …  250, 229, 163, 216, 327, 205, 313, 220, 226, 222], [271, 230, 277, 257, 200, 196, 190, 286, 330, 188  …  308, 225, 213, 290, 226, 175, 258, 285, 178, 289])"
      ]
     },
     "execution_count": 48,
     "metadata": {},
     "output_type": "execute_result"
    }
   ],
   "source": [
    "function train_test_split(X, y, test_size)\n",
    "    n = nrow(X)\n",
    "    indices = shuffle(1:n)\n",
    "    split_idx = Int(ceil((1 - test_size) * n))\n",
    "\n",
    "    X_train = X[indices[1:split_idx], :]\n",
    "    y_train = y[indices[1:split_idx]]\n",
    "\n",
    "    X_test = X[indices[split_idx+1:end], :]\n",
    "    y_test = y[indices[split_idx+1:end]]\n",
    "\n",
    "    return X_train, X_test, y_train, y_test\n",
    "end\n",
    "test_size = 0.2\n",
    "data_x = main_df[:,Not([\"CO2 Emissions(g/km)\"])]\n",
    "data_y = main_df[:,     \"CO2 Emissions(g/km)\"]\n",
    "X_train, X_test, y_train, y_test = train_test_split(data_x,    data_y,    test_size)"
   ]
  },
  {
   "cell_type": "markdown",
   "id": "5c618afa-1086-4953-b338-c6726be36f78",
   "metadata": {
    "tags": []
   },
   "source": [
    "# Modeling"
   ]
  },
  {
   "cell_type": "code",
   "execution_count": 79,
   "id": "fd11946a-a506-4cd7-962b-9e62bad8ff32",
   "metadata": {
    "execution": {
     "iopub.execute_input": "2023-10-16T20:58:53.718",
     "iopub.status.busy": "2023-10-16T20:58:53.718",
     "iopub.status.idle": "2023-10-16T20:58:53.723",
     "shell.execute_reply": "2023-10-16T20:58:53.723"
    },
    "tags": []
   },
   "outputs": [
    {
     "data": {
      "text/plain": [
       "ScikitLearn.Models.LinearRegression{Matrix{Float64}, Float64}([4.749518757245536; 7.694059733153104; … ; -0.37289445443509833; -3.48877714518704;;], [230.35850622151915])"
      ]
     },
     "execution_count": 79,
     "metadata": {},
     "output_type": "execute_result"
    }
   ],
   "source": [
    "# Create model\n",
    "lr = ScikitLearn.Models.LinearRegression(multi_output=false)\n",
    "\n",
    "# Train the model\n",
    "ScikitLearn.fit!(lr, Matrix(X_train),  y_train)"
   ]
  },
  {
   "cell_type": "code",
   "execution_count": 80,
   "id": "9b2e4440-ba93-4869-9b71-93e8e05d3852",
   "metadata": {
    "execution": {
     "iopub.execute_input": "2023-10-16T20:58:54.040",
     "iopub.status.busy": "2023-10-16T20:58:54.040",
     "iopub.status.idle": "2023-10-16T20:58:54.046",
     "shell.execute_reply": "2023-10-16T20:58:54.046"
    },
    "tags": []
   },
   "outputs": [
    {
     "data": {
      "text/plain": [
       "1477-element Vector{Float64}:\n",
       " 268.0005910506567\n",
       " 244.84985595418516\n",
       " 271.5033247132802\n",
       " 261.19555854156\n",
       " 202.35746040688525\n",
       " 201.27136461039754\n",
       " 193.53886501278896\n",
       " 252.8400712526852\n",
       " 323.4887195285014\n",
       " 189.95174905637032\n",
       " 306.79862371991555\n",
       " 382.4470838569082\n",
       " 292.6636619842321\n",
       "   ⋮\n",
       " 239.81469952597163\n",
       " 345.3904612952337\n",
       " 310.45976371406124\n",
       " 225.77653849288762\n",
       " 202.05855025104248\n",
       " 282.3364013937388\n",
       " 221.54284514453676\n",
       " 179.77160823120767\n",
       " 264.7515732962203\n",
       " 337.3285478196053\n",
       " 183.4463722660836\n",
       " 297.0590908929022"
      ]
     },
     "execution_count": 80,
     "metadata": {},
     "output_type": "execute_result"
    }
   ],
   "source": [
    "# Prediction\n",
    "y_pred_test = vec(ScikitLearn.predict(lr, Matrix(X_test)))"
   ]
  },
  {
   "cell_type": "code",
   "execution_count": 81,
   "id": "09646166-c247-405d-9e13-affcdc5655dd",
   "metadata": {
    "execution": {
     "iopub.execute_input": "2023-10-16T20:58:54.169",
     "iopub.status.busy": "2023-10-16T20:58:54.169",
     "iopub.status.idle": "2023-10-16T20:58:54.175",
     "shell.execute_reply": "2023-10-16T20:58:54.175"
    },
    "tags": []
   },
   "outputs": [
    {
     "data": {
      "text/plain": [
       "\"CO2_Emission_Prediction2.csv\""
      ]
     },
     "execution_count": 81,
     "metadata": {},
     "output_type": "execute_result"
    }
   ],
   "source": [
    "df  = DataFrame(Predict = y_pred_test)\n",
    "df2 = DataFrame(Actual = y_test)\n",
    "df_export = hcat(df, df2)\n",
    "CSV.write(\"CO2_Emission_Prediction2.csv\", df_export) "
   ]
  },
  {
   "cell_type": "code",
   "execution_count": 82,
   "id": "b75bfa70-4e01-45df-b430-8bf5c98c696d",
   "metadata": {
    "execution": {
     "iopub.execute_input": "2023-10-16T20:58:54.321",
     "iopub.status.busy": "2023-10-16T20:58:54.321",
     "iopub.status.idle": "2023-10-16T20:58:54.561",
     "shell.execute_reply": "2023-10-16T20:58:54.561"
    },
    "tags": []
   },
   "outputs": [
    {
     "data": {
      "image/png": "[encoded data removed]",
      "text/plain": [
       "Figure(PyObject <Figure size 640x480 with 1 Axes>)"
      ]
     },
     "metadata": {},
     "output_type": "display_data"
    }
   ],
   "source": [
    "using PyPlot\n",
    "plot(y_test, y_pred_test, \"o\")\n",
    "grid()"
   ]
  },
  {
   "cell_type": "code",
   "execution_count": null,
   "id": "7843cfaa-d461-452e-be46-24d73eed7625",
   "metadata": {},
   "outputs": [],
   "source": []
  },
  {
   "cell_type": "markdown",
   "id": "f1afb809-62b2-4cb0-b786-26f321d0e2be",
   "metadata": {
    "tags": []
   },
   "source": [
    "# Modeling"
   ]
  },
  {
   "cell_type": "code",
   "execution_count": 83,
   "id": "d5dc0832-b386-45c6-8493-29d2d0594a20",
   "metadata": {
    "execution": {
     "iopub.execute_input": "2023-10-16T20:58:54.758",
     "iopub.status.busy": "2023-10-16T20:58:54.757",
     "iopub.status.idle": "2023-10-16T20:58:54.835",
     "shell.execute_reply": "2023-10-16T20:58:54.835"
    },
    "tags": []
   },
   "outputs": [
    {
     "data": {
      "text/plain": [
       "DecisionTreeClassifier\n",
       "max_depth:                100\n",
       "min_samples_leaf:         1\n",
       "min_samples_split:        2\n",
       "min_purity_increase:      0.0\n",
       "pruning_purity_threshold: 1.0\n",
       "n_subfeatures:            0\n",
       "classes:                  [96, 102, 103, 104, 105, 106, 108, 110, 111, 113  …  464, 465, 467, 473, 476, 485, 487, 488, 493, 522]\n",
       "root:                     Decision Tree\n",
       "Leaves: 2576\n",
       "Depth:  18"
      ]
     },
     "execution_count": 83,
     "metadata": {},
     "output_type": "execute_result"
    }
   ],
   "source": [
    "# Create model\n",
    "DT = DecisionTreeClassifier(max_depth=100)\n",
    "\n",
    "# Train the model\n",
    "ScikitLearn.fit!(DT, Matrix(X_train),  y_train)"
   ]
  },
  {
   "cell_type": "code",
   "execution_count": 84,
   "id": "8dc0a2bc-cfd0-4f5f-96fa-4f5de05ca40d",
   "metadata": {
    "execution": {
     "iopub.execute_input": "2023-10-16T20:58:54.922",
     "iopub.status.busy": "2023-10-16T20:58:54.922",
     "iopub.status.idle": "2023-10-16T20:58:54.926",
     "shell.execute_reply": "2023-10-16T20:58:54.925"
    },
    "tags": []
   },
   "outputs": [
    {
     "data": {
      "text/plain": [
       "1477-element Vector{Int64}:\n",
       " 272\n",
       " 230\n",
       " 277\n",
       " 258\n",
       " 200\n",
       " 193\n",
       " 189\n",
       " 283\n",
       " 331\n",
       " 184\n",
       " 334\n",
       " 396\n",
       " 283\n",
       "   ⋮\n",
       " 221\n",
       " 382\n",
       " 308\n",
       " 225\n",
       " 214\n",
       " 290\n",
       " 229\n",
       " 179\n",
       " 259\n",
       " 285\n",
       " 177\n",
       " 290"
      ]
     },
     "execution_count": 84,
     "metadata": {},
     "output_type": "execute_result"
    }
   ],
   "source": [
    "# Prediction\n",
    "y_pred_test = vec(ScikitLearn.predict(DT, Matrix(X_test)))"
   ]
  },
  {
   "cell_type": "code",
   "execution_count": 85,
   "id": "421fb5a3-eeae-4015-b941-28ec77d32263",
   "metadata": {
    "execution": {
     "iopub.execute_input": "2023-10-16T20:58:55.087",
     "iopub.status.busy": "2023-10-16T20:58:55.087",
     "iopub.status.idle": "2023-10-16T20:58:55.295",
     "shell.execute_reply": "2023-10-16T20:58:55.295"
    },
    "tags": []
   },
   "outputs": [
    {
     "data": {
      "image/png": "[encoded data removed]",
      "text/plain": [
       "Figure(PyObject <Figure size 640x480 with 1 Axes>)"
      ]
     },
     "metadata": {},
     "output_type": "display_data"
    },
    {
     "data": {
      "text/plain": [
       "1-element Vector{PyCall.PyObject}:\n",
       " PyObject <matplotlib.lines.Line2D object at 0x0000020FFD3B3CD0>"
      ]
     },
     "execution_count": 85,
     "metadata": {},
     "output_type": "execute_result"
    }
   ],
   "source": [
    "using PyPlot\n",
    "plot(y_test, y_pred_test, \"o\")"
   ]
  },
  {
   "cell_type": "code",
   "execution_count": 86,
   "id": "dd532b33-671e-4b7e-ad5f-7718c3ff9a75",
   "metadata": {
    "execution": {
     "iopub.execute_input": "2023-10-16T20:58:55.295",
     "iopub.status.busy": "2023-10-16T20:58:55.295",
     "iopub.status.idle": "2023-10-16T20:58:55.302",
     "shell.execute_reply": "2023-10-16T20:58:55.301"
    },
    "tags": []
   },
   "outputs": [
    {
     "data": {
      "text/plain": [
       "\"CO2_Emission_Prediction1.csv\""
      ]
     },
     "execution_count": 86,
     "metadata": {},
     "output_type": "execute_result"
    }
   ],
   "source": [
    "df  = DataFrame(Predict = y_pred_test)\n",
    "df2 = DataFrame(Actual = y_test)\n",
    "df_export = hcat(df, df2)\n",
    "CSV.write(\"CO2_Emission_Prediction1.csv\", df_export) "
   ]
  },
  {
   "cell_type": "code",
   "execution_count": null,
   "id": "f99910d6-ba7a-4839-88fe-7dcf24fcf2c2",
   "metadata": {},
   "outputs": [],
   "source": []
  },
  {
   "cell_type": "code",
   "execution_count": null,
   "id": "4f57a9c4-d19b-4916-b44f-425a7009f49e",
   "metadata": {},
   "outputs": [],
   "source": []
  }
 ],
 "metadata": {
  "kernelspec": {
   "display_name": "Julia 1.9.2",
   "language": "julia",
   "name": "julia-1.9"
  },
  "language_info": {
   "file_extension": ".jl",
   "mimetype": "application/julia",
   "name": "julia",
   "version": "1.9.2"
  }
 },
 "nbformat": 4,
 "nbformat_minor": 5
}
